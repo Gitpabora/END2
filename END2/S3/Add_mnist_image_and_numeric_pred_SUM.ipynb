{
  "nbformat": 4,
  "nbformat_minor": 0,
  "metadata": {
    "accelerator": "GPU",
    "colab": {
      "name": "Add_mnist_image_and_numeric_pred_SUM_week4.ipynb",
      "provenance": [],
      "collapsed_sections": []
    },
    "kernelspec": {
      "display_name": "Python 3",
      "name": "python3"
    }
  },
  "cells": [
    {
      "cell_type": "markdown",
      "metadata": {
        "id": "thimR4_U4J6t"
      },
      "source": [
        "Import the necessary **libraries**"
      ]
    },
    {
      "cell_type": "code",
      "metadata": {
        "id": "0m2JWFliFfKT"
      },
      "source": [
        "from __future__ import print_function\n",
        "import torch\n",
        "import torch.nn as nn\n",
        "import torch.nn.functional as F\n",
        "import torch.optim as optim\n",
        "import numpy as np\n",
        "from torchvision import datasets, transforms\n",
        "\n",
        "import matplotlib.pyplot as plt\n",
        "%matplotlib inline"
      ],
      "execution_count": 1,
      "outputs": []
    },
    {
      "cell_type": "code",
      "metadata": {
        "id": "lGb6bl1KmPeo"
      },
      "source": [
        ""
      ],
      "execution_count": null,
      "outputs": []
    },
    {
      "cell_type": "markdown",
      "metadata": {
        "id": "76YyvhtnIMAB"
      },
      "source": [
        "## A model is experimented with the two inputs \n",
        "* input 1  : an image from MNIST \n",
        "* input 2 : A numerical \n",
        "\n",
        "Inside the model ,\n",
        "\n",
        "* mnist image is processed with an intention to predict the number , \n",
        "* The last layer is then paired with the 2nd input which is a numeric. \n",
        "* and fed to four linear layer to learn the addition of number.\n",
        " - One hot encoding of the input number is done to create a 1x10 vector \n",
        " - torch.cat is used pair the predicted number with input number\n",
        "\n",
        "####  summary of layers with convolution\n",
        "\\begin{array}{ccc}\n",
        "\\text{Layer}&\\text{Input}&\\text{Output}&\\text{Receptive Field}\\\\\n",
        "Conv1&28*28*1&28*28*32&3*3\\\\\n",
        "Conv2&28*28*32&28*28*64&5*5\\\\\n",
        "Pool1&28*28*64&14*14*64&10*10\\\\\n",
        "Conv3&14*14*64&14*14*128&12*12\\\\\n",
        "Conv4&14*14*128&14*14*256&14*14\\\\\n",
        "Pool2&14*14*256&7*7*256&28*28\\\\\n",
        "Conv5&7*7*256&5*5*512&30*30\\\\\n",
        "Conv6&5*5*512&3*3*1024&32*32\\\\\n",
        "Conv7&3*3*1024&1*1*10&34*34\\\\\n",
        "\\end{array}\n",
        "\n",
        "\n",
        "#### Adder fully connected layers\n",
        "\\begin{array}{ccc}\n",
        "\\text{Layer}&\\text{Input}&\\text{Output}\\\\\n",
        "fc1&1*1*20&1*1*200\\\\\n",
        "fc2&1*1*200&1*1*400\\\\\n",
        "fc3&1*1*400&1*1*800\\\\\n",
        "fc4&1*1*800&1*1*20\\\\\n",
        "\\end{array}"
      ]
    },
    {
      "cell_type": "code",
      "metadata": {
        "id": "h_Cx9q2QFgM7"
      },
      "source": [
        "class Net(nn.Module):\n",
        "    def __init__(self):\n",
        "        super(Net, self).__init__()\n",
        "        self.conv1 = nn.Conv2d(1, 32, 3, padding=1) \n",
        "        self.conv2 = nn.Conv2d(32, 64, 3, padding=1) \n",
        "        self.pool1 = nn.MaxPool2d(2, 2)\n",
        "        self.conv3 = nn.Conv2d(64, 128, 3, padding=1)\n",
        "        self.conv4 = nn.Conv2d(128, 256, 3, padding=1)\n",
        "        self.pool2 = nn.MaxPool2d(2, 2)\n",
        "        self.conv5 = nn.Conv2d(256, 512, 3)\n",
        "        self.conv6 = nn.Conv2d(512, 1024, 3)\n",
        "        self.conv7 = nn.Conv2d(1024, 10, 3)\n",
        "        self.fc1 = nn.Linear(9216, 10)\n",
        "        self.lin1 = nn.Linear(20, 100 , bias = True)\n",
        "        self.lin2 = nn.Linear(100, 20, bias=False)\n",
        "        #self.lin2 = nn.Linear(200, 400 , bias = True)\n",
        "        #self.lin3 = nn.Linear(400, 800 , bias = True)\n",
        "        #self.lin4 = nn.Linear(800, 20 , bias = False)\n",
        "\n",
        "\n",
        "    def forward(self, x , x2 = None):\n",
        "        # process the mnist image\n",
        "        x = self.pool1(F.relu(self.conv2(F.relu(self.conv1(x)))))\n",
        "        x = self.pool2(F.relu(self.conv4(F.relu(self.conv3(x)))))\n",
        "        \n",
        "        x = F.relu(self.conv6(F.relu(self.conv5(x))))\n",
        "        \n",
        "        x = (self.conv7(x))\n",
        "\n",
        "        x = x.view(-1, 10)\n",
        "\n",
        "        x = F.log_softmax(x)\n",
        "\n",
        "        # initialize an empty tensor , this is required to get the model summary\n",
        "        x_in = torch.empty(x.size()[0], 20)#, dtype=torch.float32)\n",
        "\n",
        "        # take the mnist image out put and pair with the input number\n",
        "        if (x2 != None):\n",
        "          onehotx2 = torch.nn.functional.one_hot(x2 , num_classes=10)\n",
        "\n",
        "          x_in = torch.cat((x.view(x.size(0), -1),\n",
        "                          onehotx2.view(onehotx2.size(0), -1)), dim=1)\n",
        "        \n",
        "        x_in = x_in.to(device)\n",
        "\n",
        "        # process the pair to add the numbers\n",
        "        x_in = self.lin1(x_in)\n",
        "        x_in = torch.tanh(x_in)\n",
        "        \n",
        "        x_in = self.lin2(x_in)\n",
        "        \"\"\"x_in = torch.tanh(x_in)\n",
        "\n",
        "        x_in = self.lin3(x_in)\n",
        "        x_in = torch.tanh(x_in)\n",
        "\n",
        "        x_in = self.lin4(x_in)\"\"\"\n",
        "\n",
        "        x_in = x_in.view(-1, 20)\n",
        "        x_in = F.log_softmax(x_in)\n",
        "        \n",
        "        return x_in"
      ],
      "execution_count": 2,
      "outputs": []
    },
    {
      "cell_type": "markdown",
      "metadata": {
        "id": "x28yCvzybWwJ"
      },
      "source": [
        "## summary\n",
        " \n",
        "\\begin{array}{ccc}\n",
        "\\text{Layer}&\\text{calculation}&\\text{No of parameters}\\\\\n",
        "Conv1&3*3*32 + 32(bias)&320\\\\\n",
        "Conv2&3*3*32*64 + 64(bias)&18,496\\\\\n",
        "Conv3&3*3*64*128 + 128(bias)&73,856\\\\\n",
        "Conv4&3*3*128*256 + 256(bias)&295,168\\\\\n",
        "Conv5&3*3*256*512 + 512(bias)&1,180,160\\\\\n",
        "Conv6&3*3*512*1024 + 1024(bias)&4,719,616\\\\\n",
        "Conv7&3*3*1024*10 + 10(bias)&92,170\\\\\n",
        "fc1&20*200 + 200(bias)&4200\\\\\n",
        "fc2&200*400 + 400(bias)&80400\\\\\n",
        "fc3&400*800 + 800(bias)&320800\\\\\n",
        "fc4&800*20 + 0(bias)&16000\\\\\n",
        "\\end{array}"
      ]
    },
    {
      "cell_type": "code",
      "metadata": {
        "colab": {
          "base_uri": "https://localhost:8080/"
        },
        "id": "xdydjYTZFyi3",
        "outputId": "03db2082-bb6e-45e9-ff20-b57059b3a21b"
      },
      "source": [
        "!pip install torchsummary\n",
        "from torchsummary import summary\n",
        "\n",
        "# Check if gpu is available \n",
        "use_cuda = torch.cuda.is_available()\n",
        "device = torch.device(\"cuda\" if use_cuda else \"cpu\")\n",
        "# direct the model to run in GPU\n",
        "model = Net().to(device)\n",
        "# give a summary of the model like output of each layer , number of parameters in each layer\n",
        "summary(model, input_size=(1, 28, 28))"
      ],
      "execution_count": 3,
      "outputs": [
        {
          "output_type": "stream",
          "text": [
            "Requirement already satisfied: torchsummary in /usr/local/lib/python3.7/dist-packages (1.5.1)\n",
            "----------------------------------------------------------------\n",
            "        Layer (type)               Output Shape         Param #\n",
            "================================================================\n",
            "            Conv2d-1           [-1, 32, 28, 28]             320\n",
            "            Conv2d-2           [-1, 64, 28, 28]          18,496\n",
            "         MaxPool2d-3           [-1, 64, 14, 14]               0\n",
            "            Conv2d-4          [-1, 128, 14, 14]          73,856\n",
            "            Conv2d-5          [-1, 256, 14, 14]         295,168\n",
            "         MaxPool2d-6            [-1, 256, 7, 7]               0\n",
            "            Conv2d-7            [-1, 512, 5, 5]       1,180,160\n",
            "            Conv2d-8           [-1, 1024, 3, 3]       4,719,616\n",
            "            Conv2d-9             [-1, 10, 1, 1]          92,170\n",
            "           Linear-10                  [-1, 100]           2,100\n",
            "           Linear-11                   [-1, 20]           2,000\n",
            "================================================================\n",
            "Total params: 6,383,886\n",
            "Trainable params: 6,383,886\n",
            "Non-trainable params: 0\n",
            "----------------------------------------------------------------\n",
            "Input size (MB): 0.00\n",
            "Forward/backward pass size (MB): 1.51\n",
            "Params size (MB): 24.35\n",
            "Estimated Total Size (MB): 25.86\n",
            "----------------------------------------------------------------\n"
          ],
          "name": "stdout"
        },
        {
          "output_type": "stream",
          "text": [
            "/usr/local/lib/python3.7/dist-packages/ipykernel_launcher.py:32: UserWarning: Implicit dimension choice for log_softmax has been deprecated. Change the call to include dim=X as an argument.\n",
            "/usr/local/lib/python3.7/dist-packages/ipykernel_launcher.py:59: UserWarning: Implicit dimension choice for log_softmax has been deprecated. Change the call to include dim=X as an argument.\n"
          ],
          "name": "stderr"
        }
      ]
    },
    {
      "cell_type": "markdown",
      "metadata": {
        "id": "_Z5Dr0iuDM6c"
      },
      "source": [
        "### Pre-processing\n",
        "\n",
        "\n",
        "\n",
        "*   Take a batch size of 128\n",
        "*   Call the DataLoader api \n",
        "*   > use the MNIST dataset from pytorch\n",
        "*   > normalize the data - mean = 0.1307 , std = 0.3081\n",
        "*   > shuffle the data \n",
        "\n",
        "\n",
        "\n",
        "\n"
      ]
    },
    {
      "cell_type": "code",
      "metadata": {
        "id": "DqTWLaM5GHgH"
      },
      "source": [
        "\n",
        "\n",
        "torch.manual_seed(1)\n",
        "batch_size = 128\n",
        "\n",
        "kwargs = {'num_workers': 1, 'pin_memory': True} if use_cuda else {}\n",
        "train_loader = torch.utils.data.DataLoader(\n",
        "    datasets.MNIST('../data', train=True, download=True,\n",
        "                    transform=transforms.Compose([\n",
        "                        transforms.ToTensor(),\n",
        "                        transforms.Normalize((0.1307,), (0.3081,))\n",
        "                    ])),\n",
        "    batch_size=batch_size, shuffle=True, **kwargs)\n",
        "test_loader = torch.utils.data.DataLoader(\n",
        "    datasets.MNIST('../data', train=False, transform=transforms.Compose([\n",
        "                        transforms.ToTensor(),\n",
        "                        transforms.Normalize((0.1307,), (0.3081,))\n",
        "                    ])),\n",
        "    batch_size=batch_size, shuffle=True, **kwargs)\n"
      ],
      "execution_count": 4,
      "outputs": []
    },
    {
      "cell_type": "markdown",
      "metadata": {
        "id": "Pr07HgtCLYwh"
      },
      "source": [
        "### Function to train \n",
        "\n",
        "*   model -> set the mode to train \n",
        "*   tqdm is used to show progress bar while looping through the train/test dataset\n",
        "*   while looping through each batch of train data and label\n",
        "*   create a batch of random integer between 0 - 9 , this is the second input to the model\n",
        "*   add the labels and second input to create the target label for the adder model\n",
        "*   set the device for each of the input \n",
        "*   set the gradient to zero before doing backpropogation , because pytorch accumulates the gradient on subsequent backward passes. \n",
        "*   train the model on each batch \n",
        "*   get the crossentropy loss between the predicted label and the true label\n",
        "*   backpropogate the loss to readjust the parameter weights\n",
        "\n",
        "*What is the loss function?*\n",
        "\n",
        "It is crossentropy loss between the predicted sum of two numbers and the actual sum of two numbers\n",
        "\n",
        "### Function to test \n",
        "\n",
        "\n",
        "*   model -> set the mode to eval \n",
        "*   disable gradient calculation\n",
        "*   while looping through each batch of test data and label\n",
        "*   create a batch of random integer between 0 - 9 , this is the second input to the model\n",
        "*   add the labels and second input to create the target label for the adder model\n",
        "*   set the device for each of the input \n",
        "*   test the model on each batch \n",
        "*   get the crossentropy loss between the predicted label and the true label \n",
        "*   sum the batch loss\n",
        "*   find the number of correct prediction\n",
        "*   measure the accuracy of the model = correct / total number of records\n",
        "\n",
        "\n"
      ]
    },
    {
      "cell_type": "code",
      "metadata": {
        "id": "8fDefDhaFlwH"
      },
      "source": [
        "from tqdm import tqdm\n",
        "def train(model, device, train_loader, optimizer, epoch):\n",
        "    model.train()\n",
        "    pbar = tqdm(train_loader)\n",
        "    for batch_idx, (data, target) in enumerate(pbar):\n",
        "        randinpt =  np.random.randint(low=0, high=10, size=(target.size()[0],))\n",
        "        randlabel = torch.tensor(randinpt, dtype=torch.int32)\n",
        "        input2 = torch.tensor(randinpt, dtype=torch.long)\n",
        "        \n",
        "        sumLabel = randlabel + target\n",
        "        data, target = data.to(device), target.to(device)\n",
        "        input2 , sumLabel  = input2.to(device) , sumLabel.to(device)\n",
        "        optimizer.zero_grad()\n",
        "        output = model(data ,input2)\n",
        "        \n",
        "        loss = F.cross_entropy(output, sumLabel)\n",
        "        #loss = torch.nn.functional.nll_loss(output, sumLabel, weight=None, size_average=None, ignore_index=-100, reduce=None, reduction='mean')\n",
        "        nn.L1Loss()\n",
        "        loss.backward()\n",
        "        optimizer.step()\n",
        "        pbar.set_description(desc= f'loss={loss.item()} batch_id={batch_idx}')\n",
        "\n",
        "\n",
        "def test(model, device, test_loader):\n",
        "    model.eval()\n",
        "    test_loss = 0\n",
        "    correct = 0\n",
        "    \n",
        "    with torch.no_grad():\n",
        "        for data, target in test_loader:\n",
        "            randinpttest =  np.random.randint(low=0, high=10, size=(target.size()[0],))\n",
        "            randlabeltest = torch.tensor(randinpttest, dtype=torch.int32)\n",
        "            input2test = torch.tensor(randinpttest, dtype=torch.long)\n",
        "            #input2test = torch.tensor(randinpttest, dtype=torch.float32)\n",
        "            sumLabeltest = randlabeltest + target\n",
        "\n",
        "            data, target = data.to(device), target.to(device)\n",
        "            input2test , sumLabeltest  = input2test.to(device) , sumLabeltest.to(device) \n",
        "\n",
        "            output = model(data,input2test)\n",
        "            test_loss += F.cross_entropy(output, sumLabeltest, reduction='sum').item()  # sum up batch loss\n",
        "            pred = output.argmax(dim=1, keepdim=True)  # get the index of the max log-probability\n",
        "            correct += pred.eq(sumLabeltest.view_as(pred)).sum().item()\n",
        "            #print('pred ' , pred , '- \\n actual - ',sumLabeltest)\n",
        "\n",
        "    test_loss /= len(test_loader.dataset)\n",
        "\n",
        "    print('\\nTest set: Average loss: {:.4f}, Accuracy: {}/{} ({:.0f}%)\\n'.format(\n",
        "        test_loss, correct, len(test_loader.dataset),\n",
        "        100. * correct / len(test_loader.dataset)))\n",
        "    return test_loss , 100. * correct / len(test_loader.dataset)"
      ],
      "execution_count": 5,
      "outputs": []
    },
    {
      "cell_type": "markdown",
      "metadata": {
        "id": "9QGQLNrO5c1i"
      },
      "source": [
        "### run the model on the train data and evaluate the model on test data\n",
        "\n",
        "*   Use stochastic gradient descent to backpropogate and upddate the parameters\n",
        "*   for each epoch , train the model and evaluate it performance on test data\n",
        "\n"
      ]
    },
    {
      "cell_type": "code",
      "metadata": {
        "colab": {
          "base_uri": "https://localhost:8080/"
        },
        "id": "MMWbLWO6FuHb",
        "outputId": "b025eb03-ddc9-48dd-d443-1e5c47fc9e68"
      },
      "source": [
        "model = Net().to(device)\n",
        "optimizer = optim.SGD(model.parameters(), lr=0.1, momentum=0.9)\n",
        "losslist = []\n",
        "accrylist = []\n",
        "for epoch in range(1, 10):\n",
        "    train(model, device, train_loader, optimizer, epoch)\n",
        "    loss , accry = test(model, device, test_loader)\n",
        "    losslist.append(loss)\n",
        "    accrylist.append(accry)"
      ],
      "execution_count": 6,
      "outputs": [
        {
          "output_type": "stream",
          "text": [
            "  0%|          | 0/469 [00:00<?, ?it/s]/usr/local/lib/python3.7/dist-packages/ipykernel_launcher.py:32: UserWarning: Implicit dimension choice for log_softmax has been deprecated. Change the call to include dim=X as an argument.\n",
            "/usr/local/lib/python3.7/dist-packages/ipykernel_launcher.py:59: UserWarning: Implicit dimension choice for log_softmax has been deprecated. Change the call to include dim=X as an argument.\n",
            "loss=0.6666887402534485 batch_id=468: 100%|██████████| 469/469 [00:18<00:00, 25.49it/s]\n",
            "  0%|          | 0/469 [00:00<?, ?it/s]"
          ],
          "name": "stderr"
        },
        {
          "output_type": "stream",
          "text": [
            "\n",
            "Test set: Average loss: 0.7034, Accuracy: 7733/10000 (77%)\n",
            "\n"
          ],
          "name": "stdout"
        },
        {
          "output_type": "stream",
          "text": [
            "loss=0.1056455448269844 batch_id=468: 100%|██████████| 469/469 [00:18<00:00, 25.17it/s]\n",
            "  0%|          | 0/469 [00:00<?, ?it/s]"
          ],
          "name": "stderr"
        },
        {
          "output_type": "stream",
          "text": [
            "\n",
            "Test set: Average loss: 0.1245, Accuracy: 9783/10000 (98%)\n",
            "\n"
          ],
          "name": "stdout"
        },
        {
          "output_type": "stream",
          "text": [
            "loss=0.033864106982946396 batch_id=468: 100%|██████████| 469/469 [00:19<00:00, 24.64it/s]\n",
            "  0%|          | 0/469 [00:00<?, ?it/s]"
          ],
          "name": "stderr"
        },
        {
          "output_type": "stream",
          "text": [
            "\n",
            "Test set: Average loss: 0.0536, Accuracy: 9893/10000 (99%)\n",
            "\n"
          ],
          "name": "stdout"
        },
        {
          "output_type": "stream",
          "text": [
            "loss=0.019206073135137558 batch_id=468: 100%|██████████| 469/469 [00:19<00:00, 24.56it/s]\n",
            "  0%|          | 0/469 [00:00<?, ?it/s]"
          ],
          "name": "stderr"
        },
        {
          "output_type": "stream",
          "text": [
            "\n",
            "Test set: Average loss: 0.0764, Accuracy: 9838/10000 (98%)\n",
            "\n"
          ],
          "name": "stdout"
        },
        {
          "output_type": "stream",
          "text": [
            "loss=0.02111925184726715 batch_id=468: 100%|██████████| 469/469 [00:18<00:00, 24.74it/s]\n",
            "  0%|          | 0/469 [00:00<?, ?it/s]"
          ],
          "name": "stderr"
        },
        {
          "output_type": "stream",
          "text": [
            "\n",
            "Test set: Average loss: 0.1110, Accuracy: 9750/10000 (98%)\n",
            "\n"
          ],
          "name": "stdout"
        },
        {
          "output_type": "stream",
          "text": [
            "loss=0.027853278443217278 batch_id=468: 100%|██████████| 469/469 [00:18<00:00, 24.95it/s]\n",
            "  0%|          | 0/469 [00:00<?, ?it/s]"
          ],
          "name": "stderr"
        },
        {
          "output_type": "stream",
          "text": [
            "\n",
            "Test set: Average loss: 0.0657, Accuracy: 9863/10000 (99%)\n",
            "\n"
          ],
          "name": "stdout"
        },
        {
          "output_type": "stream",
          "text": [
            "loss=0.13410301506519318 batch_id=468: 100%|██████████| 469/469 [00:18<00:00, 24.69it/s]\n",
            "  0%|          | 0/469 [00:00<?, ?it/s]"
          ],
          "name": "stderr"
        },
        {
          "output_type": "stream",
          "text": [
            "\n",
            "Test set: Average loss: 0.0527, Accuracy: 9875/10000 (99%)\n",
            "\n"
          ],
          "name": "stdout"
        },
        {
          "output_type": "stream",
          "text": [
            "loss=0.017813539132475853 batch_id=468: 100%|██████████| 469/469 [00:19<00:00, 24.61it/s]\n",
            "  0%|          | 0/469 [00:00<?, ?it/s]"
          ],
          "name": "stderr"
        },
        {
          "output_type": "stream",
          "text": [
            "\n",
            "Test set: Average loss: 0.0463, Accuracy: 9907/10000 (99%)\n",
            "\n"
          ],
          "name": "stdout"
        },
        {
          "output_type": "stream",
          "text": [
            "loss=0.037272628396749496 batch_id=468: 100%|██████████| 469/469 [00:18<00:00, 24.69it/s]\n"
          ],
          "name": "stderr"
        },
        {
          "output_type": "stream",
          "text": [
            "\n",
            "Test set: Average loss: 0.0493, Accuracy: 9903/10000 (99%)\n",
            "\n"
          ],
          "name": "stdout"
        }
      ]
    },
    {
      "cell_type": "markdown",
      "metadata": {
        "id": "TJ2w0XXxUsch"
      },
      "source": [
        "## Plot the performance of the model i.e loss and accuracy across epochs\n",
        "\n"
      ]
    },
    {
      "cell_type": "code",
      "metadata": {
        "colab": {
          "base_uri": "https://localhost:8080/",
          "height": 895
        },
        "id": "uxhs2t2VH_kY",
        "outputId": "a144e97e-39d0-457a-f6a2-32643d39a454"
      },
      "source": [
        "xpoints = np.arange(len(losslist))\n",
        "ypoints0 = losslist\n",
        "ypoints2 = accrylist\n",
        "\n",
        "plt.rcParams['figure.figsize'] = [20, 15]\n",
        "plt.plot(xpoints, ypoints0 , label = \"loss\")  #\"$lr=\"+str(LRARRAY[0])+\"$\" )\n",
        "plt.plot(xpoints, ypoints2, label = \"accuracy\")\n",
        "\n",
        "plt.legend(loc=\"upper right\")\n",
        "\n",
        "plt.title(\"model performance\", fontsize=16, fontweight='bold')\n",
        "plt.xlabel(\"x\")\n",
        "plt.ylabel(\"loss - accuracy\")\n",
        "plt.show()"
      ],
      "execution_count": 7,
      "outputs": [
        {
          "output_type": "display_data",
          "data": {
            "image/png": "[encoded data removed]",
            "text/plain": [
              "<Figure size 1440x1080 with 1 Axes>"
            ]
          },
          "metadata": {
            "tags": [],
            "needs_background": "light"
          }
        }
      ]
    },
    {
      "cell_type": "markdown",
      "metadata": {
        "id": "6NLJYzd6JNQi"
      },
      "source": [
        "## Show the model performance on a sample dataset\n",
        "\n",
        "* Take a batch from the test data\n",
        "* get the image and label from the batch\n",
        "* generate a batch of random integers between 0 and 9 , this is input 2\n",
        "* add the labels and input2 to get the actual sum\n",
        "* feed the images and input2 to the model to get the predicted sum\n",
        "* Show the array of predicted sum and actual sum"
      ]
    },
    {
      "cell_type": "code",
      "metadata": {
        "id": "N33WUq9W8cfh"
      },
      "source": [
        "def get_num_correct(preds, labels):\n",
        "  return preds.argmax(dim=1).eq(labels).sum().item()"
      ],
      "execution_count": 8,
      "outputs": []
    },
    {
      "cell_type": "code",
      "metadata": {
        "colab": {
          "base_uri": "https://localhost:8080/"
        },
        "id": "4bO6aByV8cca",
        "outputId": "2f8be9a4-68b1-4546-8d7d-771606e516e9"
      },
      "source": [
        "batch = next(iter(test_loader))\n",
        "len(batch)\n",
        "images, labels = batch\n",
        "\n",
        "randinpts =  np.random.randint(low=0, high=10, size=(labels.size()[0],))\n",
        "randlabels = torch.tensor(randinpts, dtype=torch.int32)\n",
        "input2s = torch.tensor(randinpts, dtype=torch.long)\n",
        "sumtestlabels = randlabels + labels\n",
        "\n",
        "images, labels = images.to(device), labels.to(device)\n",
        "input2s , sumtestlabels  = input2s.to(device) , sumtestlabels.to(device) \n",
        "\n",
        "output = model(images,input2s)\n",
        "\n",
        "predsum = output.argmax(dim=1)   \n",
        "\n",
        "print('pred -', predsum , '\\n - actual sum -',sumtestlabels )"
      ],
      "execution_count": 9,
      "outputs": [
        {
          "output_type": "stream",
          "text": [
            "pred - tensor([ 2, 12,  7, 14,  9, 10, 12,  1,  7,  4, 15, 12, 10, 15,  9, 10, 14,  7,\n",
            "         6, 13,  9, 15,  4,  9,  6, 12, 16, 12,  7,  0,  9, 11,  6, 16, 16, 13,\n",
            "        13, 10,  6,  7,  7, 11, 10, 18,  6,  3, 12, 11, 14, 13,  7,  9,  6,  4,\n",
            "         9,  5,  1, 13,  3, 14,  8, 10,  3, 11,  7, 10, 12, 15, 11, 17, 12,  9,\n",
            "         8,  5,  9,  6, 13, 10,  4, 11,  7, 12,  6, 12,  8,  9,  7, 13, 15,  8,\n",
            "        12, 11,  3,  7,  4, 12, 17, 18,  9, 11, 11, 10,  6, 14,  8, 15,  7, 11,\n",
            "        12,  2,  1, 10,  6, 14, 10,  5,  9,  6,  8, 11, 11,  5,  9,  5,  7,  3,\n",
            "         8, 13], device='cuda:0') \n",
            " - actual sum - tensor([ 2, 12,  7, 14,  9, 10, 12,  1,  7,  4, 15, 12, 10, 15,  9, 10, 14,  7,\n",
            "         6, 13,  9, 15,  4,  9,  6, 12, 16, 12,  7,  0,  9, 11,  6, 16, 16, 13,\n",
            "        13, 10,  6,  7,  7, 11, 10, 18,  6,  3, 12, 11, 14, 13,  7,  9,  8,  4,\n",
            "         9,  5,  1, 13,  3, 14,  8, 10,  3, 11,  7, 10, 12, 15, 11, 17, 12,  9,\n",
            "         8,  5,  9,  6, 13, 10,  4, 11,  7, 12,  6, 12,  8,  9,  7, 13, 15,  8,\n",
            "        12, 11,  3,  7,  4, 12, 17, 18,  9, 11, 11, 10,  6, 14,  8, 15,  7, 11,\n",
            "        12,  2,  1, 10,  6, 14, 10,  5,  9,  6,  8, 11, 11,  5,  9,  5,  7,  3,\n",
            "         8, 13], device='cuda:0')\n"
          ],
          "name": "stdout"
        },
        {
          "output_type": "stream",
          "text": [
            "/usr/local/lib/python3.7/dist-packages/ipykernel_launcher.py:32: UserWarning: Implicit dimension choice for log_softmax has been deprecated. Change the call to include dim=X as an argument.\n",
            "/usr/local/lib/python3.7/dist-packages/ipykernel_launcher.py:59: UserWarning: Implicit dimension choice for log_softmax has been deprecated. Change the call to include dim=X as an argument.\n"
          ],
          "name": "stderr"
        }
      ]
    },
    {
      "cell_type": "markdown",
      "metadata": {
        "id": "Wvswpib1Khv1"
      },
      "source": [
        "### Show the first image from the dataset , it is 0"
      ]
    },
    {
      "cell_type": "code",
      "metadata": {
        "colab": {
          "base_uri": "https://localhost:8080/",
          "height": 863
        },
        "id": "s4zs8eSX8cZB",
        "outputId": "d9134fe1-80a1-4a53-acb3-9f91dd029e83"
      },
      "source": [
        "first_image = np.array(images[0].cpu(), dtype='float')\n",
        "pixels = first_image.reshape((28, 28))\n",
        "plt.imshow(pixels, cmap='gray')\n",
        "plt.show()"
      ],
      "execution_count": 16,
      "outputs": [
        {
          "output_type": "display_data",
          "data": {
            "image/png": "[encoded data removed]",
            "text/plain": [
              "<Figure size 1440x1080 with 1 Axes>"
            ]
          },
          "metadata": {
            "tags": [],
            "needs_background": "light"
          }
        }
      ]
    },
    {
      "cell_type": "markdown",
      "metadata": {
        "id": "PXh84KjRKrNF"
      },
      "source": [
        "### Extract the first entry\n",
        "* true label of the image\n",
        "* input 2\n",
        "* predicted sum\n",
        "* actual sum"
      ]
    },
    {
      "cell_type": "code",
      "metadata": {
        "id": "KemVxqjV8cVM"
      },
      "source": [
        "#\"\\033[1m\" + \n",
        "result =  'Image label = '+ str(labels[0].cpu().data.numpy())\n",
        "result2 = 'Input 2 = ' + str(randlabels[0].cpu().data.numpy())\n",
        "result3 = 'Predicted sum = ' + str(predsum[0].cpu().data.numpy())\n",
        "result4 = 'Actual sum = ' + str (sumtestlabels[0].cpu().data.numpy())"
      ],
      "execution_count": 11,
      "outputs": []
    },
    {
      "cell_type": "markdown",
      "metadata": {
        "id": "xxxEUvYLLTN8"
      },
      "source": [
        "# Display the above result"
      ]
    },
    {
      "cell_type": "code",
      "metadata": {
        "colab": {
          "base_uri": "https://localhost:8080/",
          "height": 168
        },
        "id": "L1qOcdMnHF6p",
        "outputId": "f1724cc1-24c3-4576-c1a5-9ae204483264"
      },
      "source": [
        "from IPython.display import display, Markdown\n",
        "Markdown('<strong>{}</strong><br><br><strong>{}</strong><br><br><strong>{}</strong><br><br><strong>{}</strong><br><br>'.format(result , result2 , result3 , result4 ))"
      ],
      "execution_count": 12,
      "outputs": [
        {
          "output_type": "execute_result",
          "data": {
            "text/markdown": "<strong>Image label = 2</strong><br><br><strong>Input 2 = 0</strong><br><br><strong>Predicted sum = 2</strong><br><br><strong>Actual sum = 2</strong><br><br>",
            "text/plain": [
              "<IPython.core.display.Markdown object>"
            ]
          },
          "metadata": {
            "tags": []
          },
          "execution_count": 12
        }
      ]
    }
  ]
}