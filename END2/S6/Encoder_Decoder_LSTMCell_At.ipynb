{
  "nbformat": 4,
  "nbformat_minor": 0,
  "metadata": {
    "accelerator": "GPU",
    "colab": {
      "name": "Encoder_Decoder_LSTMCell_At.ipynb",
      "provenance": [],
      "collapsed_sections": []
    },
    "kernelspec": {
      "display_name": "Python 3",
      "name": "python3"
    },
    "language_info": {
      "name": "python"
    }
  },
  "cells": [
    {
      "cell_type": "markdown",
      "metadata": {
        "id": "LzlmnUwmDW-_"
      },
      "source": [
        "### Import the required libraries"
      ]
    },
    {
      "cell_type": "code",
      "metadata": {
        "id": "ltd8uj8o5-qw"
      },
      "source": [
        "import matplotlib.pyplot as plt\n",
        "%matplotlib inline\n",
        "import numpy as np\n",
        "import pandas as pd\n",
        "import random\n",
        "import torch, torchtext\n",
        "from torchtext import data\n",
        "import torch.optim as optim\n",
        "\n",
        "import os, pickle\n",
        "\n",
        "import torch.nn as nn\n",
        "import torch.nn.functional as F\n",
        "import json"
      ],
      "execution_count": 1,
      "outputs": []
    },
    {
      "cell_type": "markdown",
      "metadata": {
        "id": "IEOZp27rDeEm"
      },
      "source": [
        "### Upload the tweet csv file"
      ]
    },
    {
      "cell_type": "code",
      "metadata": {
        "id": "gY4eAjHGbFON",
        "colab": {
          "base_uri": "https://localhost:8080/",
          "height": 206
        },
        "outputId": "1f5abf4f-fa7f-4097-e29b-467ca1e0cc52"
      },
      "source": [
        "\n",
        "\n",
        "df = pd.read_csv( \"/content/tweets.csv\")  \n",
        "df.tail()"
      ],
      "execution_count": 2,
      "outputs": [
        {
          "output_type": "execute_result",
          "data": {
            "text/html": [
              "<div>\n",
              "<style scoped>\n",
              "    .dataframe tbody tr th:only-of-type {\n",
              "        vertical-align: middle;\n",
              "    }\n",
              "\n",
              "    .dataframe tbody tr th {\n",
              "        vertical-align: top;\n",
              "    }\n",
              "\n",
              "    .dataframe thead th {\n",
              "        text-align: right;\n",
              "    }\n",
              "</style>\n",
              "<table border=\"1\" class=\"dataframe\">\n",
              "  <thead>\n",
              "    <tr style=\"text-align: right;\">\n",
              "      <th></th>\n",
              "      <th>tweets</th>\n",
              "      <th>labels</th>\n",
              "    </tr>\n",
              "  </thead>\n",
              "  <tbody>\n",
              "    <tr>\n",
              "      <th>1359</th>\n",
              "      <td>@liberalminds Its trending idiot.. Did you loo...</td>\n",
              "      <td>0</td>\n",
              "    </tr>\n",
              "    <tr>\n",
              "      <th>1360</th>\n",
              "      <td>RT @AstoldByBass: #KimKardashiansNextBoyfriend...</td>\n",
              "      <td>0</td>\n",
              "    </tr>\n",
              "    <tr>\n",
              "      <th>1361</th>\n",
              "      <td>RT @GatorNation41: gas was $1.92 when Obama to...</td>\n",
              "      <td>1</td>\n",
              "    </tr>\n",
              "    <tr>\n",
              "      <th>1362</th>\n",
              "      <td>@xShwag haha i know im just so smart, i mean y...</td>\n",
              "      <td>1</td>\n",
              "    </tr>\n",
              "    <tr>\n",
              "      <th>1363</th>\n",
              "      <td>#OBAMA:  DICTATOR IN TRAINING.  If he passes t...</td>\n",
              "      <td>0</td>\n",
              "    </tr>\n",
              "  </tbody>\n",
              "</table>\n",
              "</div>"
            ],
            "text/plain": [
              "                                                 tweets  labels\n",
              "1359  @liberalminds Its trending idiot.. Did you loo...       0\n",
              "1360  RT @AstoldByBass: #KimKardashiansNextBoyfriend...       0\n",
              "1361  RT @GatorNation41: gas was $1.92 when Obama to...       1\n",
              "1362  @xShwag haha i know im just so smart, i mean y...       1\n",
              "1363  #OBAMA:  DICTATOR IN TRAINING.  If he passes t...       0"
            ]
          },
          "metadata": {
            "tags": []
          },
          "execution_count": 2
        }
      ]
    },
    {
      "cell_type": "code",
      "metadata": {
        "id": "rE-ylf6C6BJD",
        "colab": {
          "base_uri": "https://localhost:8080/"
        },
        "outputId": "593f48ab-5770-49e0-c0c2-54d6d57897c5"
      },
      "source": [
        "df.shape"
      ],
      "execution_count": 3,
      "outputs": [
        {
          "output_type": "execute_result",
          "data": {
            "text/plain": [
              "(1364, 2)"
            ]
          },
          "metadata": {
            "tags": []
          },
          "execution_count": 3
        }
      ]
    },
    {
      "cell_type": "code",
      "metadata": {
        "id": "dkxhrQox6Ju3",
        "colab": {
          "base_uri": "https://localhost:8080/"
        },
        "outputId": "6196bf9d-6ce6-4fcc-d40f-eeefafa04da4"
      },
      "source": [
        "df.labels.value_counts()"
      ],
      "execution_count": 4,
      "outputs": [
        {
          "output_type": "execute_result",
          "data": {
            "text/plain": [
              "0    931\n",
              "1    352\n",
              "2     81\n",
              "Name: labels, dtype: int64"
            ]
          },
          "metadata": {
            "tags": []
          },
          "execution_count": 4
        }
      ]
    },
    {
      "cell_type": "markdown",
      "metadata": {
        "id": "wbqEGu8FDw4R"
      },
      "source": [
        "### Set a seed value to enable repeatibility of model performance"
      ]
    },
    {
      "cell_type": "code",
      "metadata": {
        "id": "4kqZx2hG6e4Q",
        "colab": {
          "base_uri": "https://localhost:8080/"
        },
        "outputId": "84c286ea-d852-4a44-f721-c60fafc4a159"
      },
      "source": [
        "# Manual Seed\n",
        "SEED = 43\n",
        "torch.manual_seed(SEED)"
      ],
      "execution_count": 5,
      "outputs": [
        {
          "output_type": "execute_result",
          "data": {
            "text/plain": [
              "<torch._C.Generator at 0x7f9914441a10>"
            ]
          },
          "metadata": {
            "tags": []
          },
          "execution_count": 5
        }
      ]
    },
    {
      "cell_type": "markdown",
      "metadata": {
        "id": "WQki6r1xEHn2"
      },
      "source": [
        "### Create Field and LabelField variables to hold the comment and label information\n",
        "\n",
        "**Field** - Defines a datatype together with instructions for converting to Tensor.\n",
        "\n",
        "Field class models common text processing datatypes that can be represented by tensors. It holds a Vocab object that defines the set of possible values for elements of the field and their corresponding numerical representations. The Field object also holds other parameters relating to how a datatype should be numericalized, such as a tokenization method and the kind of Tensor that should be produced.\n",
        "\n",
        "1.   The tweet will be stored in **Tweet** Field object\n",
        "2.   The label will be stored in **Label** LabelField object\n"
      ]
    },
    {
      "cell_type": "code",
      "metadata": {
        "id": "db3eiDVx6mKf"
      },
      "source": [
        "Tweet = torchtext.legacy.data.Field(sequential = True, tokenize = 'spacy', batch_first =True, include_lengths=True)\n",
        "Label = torchtext.legacy.data.LabelField(tokenize ='spacy', is_target=True, batch_first =True, sequential =False)"
      ],
      "execution_count": 6,
      "outputs": []
    },
    {
      "cell_type": "markdown",
      "metadata": {
        "id": "Mah6J3vsESsx"
      },
      "source": [
        "#### Map the 2 variables to column header \n",
        "\n",
        "| Column header | Variable name |\n",
        "| --- | --- |\n",
        "| **tweet** | Tweet |\n",
        "| **label** | Label |"
      ]
    },
    {
      "cell_type": "code",
      "metadata": {
        "id": "-by1zHIV7LPI"
      },
      "source": [
        "fields = [('tweet', Tweet), ('label', Label)]"
      ],
      "execution_count": 7,
      "outputs": []
    },
    {
      "cell_type": "markdown",
      "metadata": {
        "id": "TK04HuwREqPW"
      },
      "source": [
        "### Create a list of example\n",
        "\n",
        "by doing list comprehension of the tweet and label dataframe generated from the csv file"
      ]
    },
    {
      "cell_type": "code",
      "metadata": {
        "id": "GxmCFTgk797i"
      },
      "source": [
        "example = [torchtext.legacy.data.Example.fromlist([df.tweets[i],df.labels[i]], fields) for i in range(df.shape[0])] "
      ],
      "execution_count": 8,
      "outputs": []
    },
    {
      "cell_type": "markdown",
      "metadata": {
        "id": "lc9xHciZEyJu"
      },
      "source": [
        "### Create the Dataset \n",
        "\n",
        "by providing the above list of examples and the field mapping"
      ]
    },
    {
      "cell_type": "code",
      "metadata": {
        "id": "-Lj9XCy38OqE"
      },
      "source": [
        "twitterDataset = torchtext.legacy.data.Dataset(example, fields)"
      ],
      "execution_count": 9,
      "outputs": []
    },
    {
      "cell_type": "code",
      "metadata": {
        "id": "2rptONIZGBmm",
        "colab": {
          "base_uri": "https://localhost:8080/"
        },
        "outputId": "5d9d9e1e-c467-4548-be5f-9767a7b41fe6"
      },
      "source": [
        "twitterDataset"
      ],
      "execution_count": 10,
      "outputs": [
        {
          "output_type": "execute_result",
          "data": {
            "text/plain": [
              "<torchtext.legacy.data.dataset.Dataset at 0x7f98bb197f10>"
            ]
          },
          "metadata": {
            "tags": []
          },
          "execution_count": 10
        }
      ]
    },
    {
      "cell_type": "markdown",
      "metadata": {
        "id": "x9ueqdslE3Me"
      },
      "source": [
        "### Split the dataset into\n",
        "\n",
        "train and validation in the ratio of **85:15**"
      ]
    },
    {
      "cell_type": "code",
      "metadata": {
        "id": "4PIA3n0l8m2x"
      },
      "source": [
        "(train, valid) = twitterDataset.split(split_ratio=[85, 15], random_state = random.seed(SEED))"
      ],
      "execution_count": 11,
      "outputs": []
    },
    {
      "cell_type": "code",
      "metadata": {
        "id": "91fhtSKS8y3T",
        "colab": {
          "base_uri": "https://localhost:8080/"
        },
        "outputId": "e4347218-8ff8-4c60-ce43-3d0a9a779c1e"
      },
      "source": [
        "len(train), len(valid)"
      ],
      "execution_count": 12,
      "outputs": [
        {
          "output_type": "execute_result",
          "data": {
            "text/plain": [
              "(1159, 205)"
            ]
          },
          "metadata": {
            "tags": []
          },
          "execution_count": 12
        }
      ]
    },
    {
      "cell_type": "code",
      "metadata": {
        "id": "wllgrWlVGhBw",
        "colab": {
          "base_uri": "https://localhost:8080/"
        },
        "outputId": "3e972c37-2e9a-4c0a-e55c-c7c9cbbd957c"
      },
      "source": [
        "train.fields"
      ],
      "execution_count": 13,
      "outputs": [
        {
          "output_type": "execute_result",
          "data": {
            "text/plain": [
              "{'label': <torchtext.legacy.data.field.LabelField at 0x7f98bc735b10>,\n",
              " 'tweet': <torchtext.legacy.data.field.Field at 0x7f99130ebad0>}"
            ]
          },
          "metadata": {
            "tags": []
          },
          "execution_count": 13
        }
      ]
    },
    {
      "cell_type": "markdown",
      "metadata": {
        "id": "09AOF296E--e"
      },
      "source": [
        "### a training example"
      ]
    },
    {
      "cell_type": "code",
      "metadata": {
        "id": "pCDhbBKJ81ZK",
        "colab": {
          "base_uri": "https://localhost:8080/"
        },
        "outputId": "cea6d3df-6d30-40da-fb72-88306104a55c"
      },
      "source": [
        "vars(train.examples[15])"
      ],
      "execution_count": 14,
      "outputs": [
        {
          "output_type": "execute_result",
          "data": {
            "text/plain": [
              "{'label': 0,\n",
              " 'tweet': ['In',\n",
              "  'his',\n",
              "  'teen',\n",
              "  'years',\n",
              "  ',',\n",
              "  'Obama',\n",
              "  'has',\n",
              "  'been',\n",
              "  'known',\n",
              "  'to',\n",
              "  'use',\n",
              "  'marijuana',\n",
              "  'and',\n",
              "  'cocaine',\n",
              "  '.']}"
            ]
          },
          "metadata": {
            "tags": []
          },
          "execution_count": 14
        }
      ]
    },
    {
      "cell_type": "markdown",
      "metadata": {
        "id": "XPrsDbp8FEIW"
      },
      "source": [
        "A Vocab object defines the set of possible values for elements of the field and their corresponding numerical representations.\n",
        "\n",
        "Create Vocab object of the tweets and labels"
      ]
    },
    {
      "cell_type": "code",
      "metadata": {
        "id": "b_K23gxx84-K"
      },
      "source": [
        "Tweet.build_vocab(train)\n",
        "Label.build_vocab(train)"
      ],
      "execution_count": 15,
      "outputs": []
    },
    {
      "cell_type": "code",
      "metadata": {
        "id": "zCPG8VrE9MKq",
        "colab": {
          "base_uri": "https://localhost:8080/"
        },
        "outputId": "dcc13242-89d0-46d7-afef-5cb98d43ad78"
      },
      "source": [
        "print('Size of input vocab : ', len(Tweet.vocab))\n",
        "print('Size of label vocab : ', len(Label.vocab))\n",
        "print('Top 10 words appreared repeatedly :', list(Tweet.vocab.freqs.most_common(10)))\n",
        "print('Labels : ', Label.vocab.stoi)"
      ],
      "execution_count": 16,
      "outputs": [
        {
          "output_type": "stream",
          "text": [
            "Size of input vocab :  4651\n",
            "Size of label vocab :  3\n",
            "Top 10 words appreared repeatedly : [('Obama', 1069), (':', 783), ('#', 780), ('.', 761), (',', 598), ('\"', 550), ('the', 542), ('RT', 516), ('?', 419), ('to', 400)]\n",
            "Labels :  defaultdict(None, {0: 0, 1: 1, 2: 2})\n"
          ],
          "name": "stdout"
        }
      ]
    },
    {
      "cell_type": "code",
      "metadata": {
        "id": "gBmMQQcX9SZk",
        "colab": {
          "base_uri": "https://localhost:8080/"
        },
        "outputId": "549746eb-f061-46e2-b9c8-8c0b7c8fc1b6"
      },
      "source": [
        "device = torch.device(\"cuda\" if torch.cuda.is_available() else \"cpu\")\n",
        "device"
      ],
      "execution_count": 17,
      "outputs": [
        {
          "output_type": "execute_result",
          "data": {
            "text/plain": [
              "device(type='cuda')"
            ]
          },
          "metadata": {
            "tags": []
          },
          "execution_count": 17
        }
      ]
    },
    {
      "cell_type": "markdown",
      "metadata": {
        "id": "IYkMaqCOFWCG"
      },
      "source": [
        "### Use the BucketIterator to split and create \n",
        "\n",
        "1.   train iterator\n",
        "2.   validation iterator\n",
        "\n"
      ]
    },
    {
      "cell_type": "code",
      "metadata": {
        "id": "fIJyulXA9sEr"
      },
      "source": [
        "batch_size = 32\n",
        "train_iterator, valid_iterator = torchtext.legacy.data.BucketIterator.splits((train, valid), batch_size = batch_size, \n",
        "                                                            sort_key = lambda x: len(x.tweet),\n",
        "                                                            sort_within_batch=True, device = device)"
      ],
      "execution_count": 18,
      "outputs": []
    },
    {
      "cell_type": "markdown",
      "metadata": {
        "id": "-mfSHuiZFd63"
      },
      "source": [
        "### Save the Vocab object for later use during testing"
      ]
    },
    {
      "cell_type": "code",
      "metadata": {
        "id": "l_NVSpoV-Uaj"
      },
      "source": [
        "import os, pickle\n",
        "with open('tokenizer.pkl', 'wb') as tokens: \n",
        "    pickle.dump(Tweet.vocab.stoi, tokens)"
      ],
      "execution_count": 19,
      "outputs": []
    },
    {
      "cell_type": "markdown",
      "metadata": {
        "id": "RT56G_9RFk8m"
      },
      "source": [
        "### Model class for training and validation\n",
        "\n",
        "The model has\n",
        "\n",
        "1.   An embedding layer which stores the list of words seen in the dataset and has weights attached to each word.These weights are adjusted during backpropagation to enable the model to converge at global minimum.\n",
        "\n",
        "2.   The model processes words in a sentence to encode the information ,\n",
        "\n",
        ">>   the sentences in the batch are padded with 0 to match the longest sentence in the batch.Here **nn.utils.rnn.pad_sequence** is used to pad the batch of sentences.\n",
        "\n",
        ">>   hidden state and cell state are initialized to 0 , before calling the encoder.\n",
        "\n",
        "**Encoder**\n",
        "\n",
        "> *Step 1:* The word of the sentence is processed in left to right order. Each word is fed to a LSTMCell method , the hidden state returned is passed along with the next word.The hidden state is also stored in an array in the same order i.e from left to right.\n",
        "\n",
        "**Decoder**\n",
        "\n",
        "> *Step 2:* The hidden state from step 1 are vertically stacked and then reshaped to - sequence length x batch size x  embedded dimension.\n",
        "\n",
        ">> *Attention mechanism:* An attention mechanism is baked into the decoder\n",
        "\n",
        ">>> The last hidden state of the decoder is paired with each hidden state of the encoder.\n",
        "\n",
        ">>> Each pair is passed to a linear layer  to get the weight for that word\n",
        "\n",
        ">>> All the weights are then stacked vertically and reshaped to get the relative weight of each word w.r.t the sentence using a softmax function.\n",
        "\n",
        ">>> The relative weight vector is multiplied with the singlevector generated by the encoder to get the **Context vector** of the word w.r.t the sentence.\n",
        "\n",
        "> The context vector of the word and the last hidden state of the decoder is fed to  LSTMCell in a loop.\n",
        "\n",
        "3.   Output of the decoder is fed to a linear layer to return 3 class values.\n"
      ]
    },
    {
      "cell_type": "markdown",
      "metadata": {
        "id": "pTxS2HF4dJu4"
      },
      "source": [
        "### A global flag is used to check whether to print the encoder and decoder output at each step\n",
        "\n",
        "*   printEncoderDecoderOutput \n",
        "\n",
        "This flag is false during training and validation"
      ]
    },
    {
      "cell_type": "code",
      "metadata": {
        "id": "fNQnNcH6-oZZ"
      },
      "source": [
        "import torch.nn as nn\n",
        "import torch.nn.functional as F\n",
        "\n",
        "printEncoderDecoderOutput = False\n",
        "\n",
        "class classifier(nn.Module):\n",
        "    \n",
        "    # Define all the layers used in model\n",
        "    def __init__(self, vocab_size, hidden_dim, output_dim, n_layers, dropout):\n",
        "        \n",
        "        super().__init__()  \n",
        "        ## store the hidden state   \n",
        "        self.hidden_dim = hidden_dim     \n",
        "        \n",
        "        # Embedding layer\n",
        "        self.embedding = nn.Embedding(vocab_size, hidden_dim)\n",
        "        \n",
        "        # LSTMCell layer for processing words from left to right\n",
        "        self.encoder_fwd = nn.LSTMCell(hidden_dim, \n",
        "                           hidden_dim)\n",
        "\n",
        "        # LSTMCell layer to process the hidden state returned by the encoder.\n",
        "        self.decoder = nn.LSTMCell(hidden_dim, \n",
        "                           hidden_dim)\n",
        "\n",
        "        # Dense layer\n",
        "        self.fc = nn.Linear(hidden_dim, output_dim)\n",
        "        self.attentionfc = nn.Linear(hidden_dim*2, 1)\n",
        "\n",
        "    def attention(self, decoderhidden, singlevector,batchsize, seqlen):\n",
        "\n",
        "        #print('atn sv',singlevector.size())\n",
        "        attention = []\n",
        "        for i in range(seqlen):\n",
        "\n",
        "          attentionhidden = torch.cat((decoderhidden,singlevector[i]),1)\n",
        "          #attentionhidden = attentionhidden.to(device)\n",
        "          #print(attentionhidden.size())\n",
        "          attentionout = self.attentionfc(attentionhidden)\n",
        "          attention.append(attentionout)\n",
        "          \n",
        "        tup_attention = tuple(a for a in attention)\n",
        "        attentionvstack = torch.vstack(tup_attention)\n",
        "        attentionvector = attentionvstack.reshape(batchsize, seqlen)\n",
        "        attentionvector = attentionvector.unsqueeze(1)\n",
        "\n",
        "        alpha = F.softmax(attentionvector , dim=1)\n",
        "        \n",
        "        reshapedsinglevector = singlevector.reshape(batchsize, seqlen , self.hidden_dim)\n",
        "        #print('alp',alpha.size() , reshapedsinglevector.size())\n",
        "        \n",
        "        context = torch.bmm(alpha,reshapedsinglevector)\n",
        "\n",
        "        context = context.squeeze(1)\n",
        "\n",
        "        return context\n",
        "          \n",
        "\n",
        "    def forward(self, text, text_lengths):\n",
        "        global printEncoderDecoderOutput\n",
        "\n",
        "        # Initialization of hidden state and cell state for LSTMCell\n",
        "        hidden_fwd = torch.zeros(text.size(0), self.hidden_dim)\n",
        "        cell_fwd = torch.zeros(text.size(0), self.hidden_dim)\n",
        "\n",
        "        # Weights initialization\n",
        "        torch.nn.init.xavier_normal_(hidden_fwd)\n",
        "        torch.nn.init.xavier_normal_(cell_fwd)\n",
        "        #print(text_lengths)\n",
        "\n",
        "        hidden_fwd , cell_fwd = hidden_fwd.to(device) , cell_fwd.to(device) \n",
        "        \n",
        "\n",
        "        # Initialization of hidden state and cell state for decoder LSTMCell\n",
        "        hidden_dcd = torch.zeros(text.size(0), self.hidden_dim)\n",
        "        cell_dcd = torch.zeros(text.size(0), self.hidden_dim)\n",
        "\n",
        "        # Weights initialization\n",
        "        torch.nn.init.xavier_normal_(hidden_dcd)\n",
        "        torch.nn.init.xavier_normal_(cell_dcd)\n",
        "        #print(text_lengths)\n",
        "\n",
        "        hidden_dcd , cell_dcd = hidden_dcd.to(device) , cell_dcd.to(device) \n",
        "\n",
        "        embedded = self.embedding(text)\n",
        "        # embedded = [batch size, sent_len, emb dim]\n",
        "\n",
        "        # padding the batch\n",
        "        packed_embedded = nn.utils.rnn.pad_sequence(embedded, batch_first=True)\n",
        "\n",
        "        # shuffle the packed embedded tensor to bring the 2nd dim to 1st dim , this dim holds the padded string string length.\n",
        "        # We will iterate through this tensor to fetch the words from left to right.\n",
        "        packed_embedded = packed_embedded.view(packed_embedded.data.size(1), text.size(0), -1)\n",
        "        \n",
        "        bsize = packed_embedded.data.size()[1]\n",
        "        seq_len = packed_embedded.data.size(0)\n",
        "\n",
        "        ## Encoder block\n",
        "        hiddenFwdList = []\n",
        "        for i in range(packed_embedded.data.size(0)):  \n",
        "          \n",
        "          hidden_fwd, cell_fwd = self.encoder_fwd(packed_embedded[i] , (hidden_fwd, cell_fwd))\n",
        "          # save the hidden state in a list for use during decode\n",
        "          hiddenFwdList.append(hidden_fwd)\n",
        "          \n",
        "          if printEncoderDecoderOutput:\n",
        "            print('encdr word ', i ,hidden_fwd.size(),hidden_fwd)\n",
        "\n",
        "\n",
        "        #hidden = [batch size, num layers * num directions,hid dim]\n",
        "        #cell = [batch size, num layers * num directions,hid dim]\n",
        "    \n",
        "        # create a tuple of all the hidden state from left to right\n",
        "        tup_hidden = tuple(h for h in hiddenFwdList)\n",
        "\n",
        "        # vertically stack the hidden state \n",
        "        vstack_hidden = torch.vstack(tup_hidden)\n",
        "        \n",
        "        # reshape the vertically stacked tensor to shape - batch size x seq_len x hidden dimension\n",
        "        singlehiddenvector = vstack_hidden.reshape( seq_len , bsize , -1 )\n",
        "\n",
        "        ## decode block\n",
        "        # loop through each hidden state of the encoder along with previous hidden state of decoder\n",
        "        #print('pkd ',packed_embedded[1].size())\n",
        "        for i in range(packed_embedded.data.size(0)):  \n",
        "          contextvector = self.attention(hidden_dcd, singlehiddenvector, bsize, seq_len)\n",
        "          #print(contextvector)\n",
        "          hidden_dcd, cell_dcd = self.decoder(contextvector , (hidden_dcd, cell_dcd))\n",
        "          \n",
        "          if printEncoderDecoderOutput:\n",
        "            print('decd word ', i ,hidden_dcd.size(),hidden_dcd)\n",
        "          \n",
        "        \n",
        "        dense_outputs = self.fc(hidden_dcd)\n",
        "        #print(dense_outputs)\n",
        "        # Final activation function softmax\n",
        "        output = F.softmax(dense_outputs, dim=1)\n",
        "        #print(output)\n",
        "        return output"
      ],
      "execution_count": 20,
      "outputs": []
    },
    {
      "cell_type": "markdown",
      "metadata": {
        "id": "L1YPR0X0VoG9"
      },
      "source": [
        "### Set the hyperparameters before running the model\n",
        "\n",
        "1.   dropout\n",
        "2.   number of nodes in embedding layer\n",
        "3.   number of nodes in hidden layer\n",
        "4.   number of layers in LSTM\n"
      ]
    },
    {
      "cell_type": "code",
      "metadata": {
        "id": "TFNWimMMAKya"
      },
      "source": [
        "# Define hyperparameters\n",
        "size_of_vocab = len(Tweet.vocab)\n",
        "num_hidden_nodes = 100\n",
        "num_output_nodes = 3\n",
        "num_layers = 2\n",
        "dropout = 0.2\n",
        "\n",
        "# Instantiate the model\n",
        "model = classifier(size_of_vocab, num_hidden_nodes, num_output_nodes, num_layers, dropout = dropout)"
      ],
      "execution_count": 21,
      "outputs": []
    },
    {
      "cell_type": "code",
      "metadata": {
        "id": "IRextCcAASGO",
        "colab": {
          "base_uri": "https://localhost:8080/"
        },
        "outputId": "50eaa9d3-9b9b-4ec0-e41f-52ea91a1ab5d"
      },
      "source": [
        "print(model)\n",
        "\n",
        "#No. of trianable parameters\n",
        "def count_parameters(model):\n",
        "    return sum(p.numel() for p in model.parameters() if p.requires_grad)\n",
        "    \n",
        "print(f'The model has {count_parameters(model):,} trainable parameters')"
      ],
      "execution_count": 22,
      "outputs": [
        {
          "output_type": "stream",
          "text": [
            "classifier(\n",
            "  (embedding): Embedding(4651, 100)\n",
            "  (encoder_fwd): LSTMCell(100, 100)\n",
            "  (decoder): LSTMCell(100, 100)\n",
            "  (fc): Linear(in_features=100, out_features=3, bias=True)\n",
            "  (attentionfc): Linear(in_features=200, out_features=1, bias=True)\n",
            ")\n",
            "The model has 627,204 trainable parameters\n"
          ],
          "name": "stdout"
        }
      ]
    },
    {
      "cell_type": "markdown",
      "metadata": {
        "id": "u3rz1d_VV6Dh"
      },
      "source": [
        "### A utility function to calculate the model accuracy"
      ]
    },
    {
      "cell_type": "code",
      "metadata": {
        "id": "EPK6b19HATLm"
      },
      "source": [
        "import torch.optim as optim\n",
        "\n",
        "learning_rate = 2e-1\n",
        "# define optimizer and loss\n",
        "optimizer = optim.Adam(model.parameters(), lr=learning_rate)\n",
        "criterion = nn.CrossEntropyLoss()\n",
        "\n",
        "# define metric\n",
        "def binary_accuracy(preds, y):\n",
        "    #round predictions to the closest integer\n",
        "    _, predictions = torch.max(preds, 1)\n",
        "    \n",
        "    correct = (predictions == y).float() \n",
        "    acc = correct.sum() / len(correct)\n",
        "    return acc\n",
        "    \n",
        "# push to cuda if available\n",
        "model = model.to(device)\n",
        "criterion = criterion.to(device)"
      ],
      "execution_count": 23,
      "outputs": []
    },
    {
      "cell_type": "markdown",
      "metadata": {
        "id": "Sth9nOW6WIrh"
      },
      "source": [
        "### wrapper function to train the model"
      ]
    },
    {
      "cell_type": "code",
      "metadata": {
        "id": "A8t9iWwqAify"
      },
      "source": [
        "def train(model, iterator, optimizer, criterion):\n",
        "    \n",
        "    # initialize every epoch \n",
        "    epoch_loss = 0\n",
        "    epoch_acc = 0\n",
        "    \n",
        "    # set the model in training phase\n",
        "    model.train()  \n",
        "    \n",
        "    for batch in iterator:\n",
        "        \n",
        "        # resets the gradients after every batch\n",
        "        optimizer.zero_grad()   \n",
        "        \n",
        "        # retrieve text and no. of words\n",
        "        tweet, tweet_lengths = batch.tweet \n",
        "        tweet, tweet_lengths = tweet.to(device), tweet_lengths.to(device) \n",
        "        #print(tweet_lengths)\n",
        "        # convert to 1D tensor\n",
        "        predictions = model(tweet, tweet_lengths).squeeze()  \n",
        "        \n",
        "        # compute the loss\n",
        "        #print(predictions.shape, len(batch.label))\n",
        "        loss = criterion(predictions, batch.label)        \n",
        "        \n",
        "        # compute the binary accuracy\n",
        "        acc = binary_accuracy(predictions, batch.label)   \n",
        "        \n",
        "        # backpropage the loss and compute the gradients\n",
        "        loss.backward()       \n",
        "        \n",
        "        # update the weights\n",
        "        optimizer.step()      \n",
        "        \n",
        "        # loss and accuracy\n",
        "        epoch_loss += loss.item()  \n",
        "        epoch_acc += acc.item()    \n",
        "        \n",
        "    return epoch_loss / len(iterator), epoch_acc / len(iterator)"
      ],
      "execution_count": 24,
      "outputs": []
    },
    {
      "cell_type": "markdown",
      "metadata": {
        "id": "ektXSpEmWKai"
      },
      "source": [
        "### wrapper function to evaluate the model"
      ]
    },
    {
      "cell_type": "code",
      "metadata": {
        "id": "LMBXHd5JAuX-"
      },
      "source": [
        "def evaluate(model, iterator, criterion):\n",
        "    \n",
        "    # initialize every epoch\n",
        "    epoch_loss = 0\n",
        "    epoch_acc = 0\n",
        "\n",
        "    # deactivating dropout layers\n",
        "    model.eval()\n",
        "    \n",
        "    # deactivates autograd\n",
        "    with torch.no_grad():\n",
        "    \n",
        "        for batch in iterator:\n",
        "        \n",
        "            # retrieve text and no. of words\n",
        "            tweet, tweet_lengths = batch.tweet\n",
        "            \n",
        "            # convert to 1d tensor\n",
        "            predictions = model(tweet, tweet_lengths).squeeze()\n",
        "            if (len(predictions.size())<2):\n",
        "              predictions = predictions.unsqueeze(0)\n",
        "\n",
        "            #print(tweet_lengths , predictions.size(), batch.label.size())\n",
        "            # compute loss and accuracy\n",
        "            loss = criterion(predictions, batch.label)\n",
        "            acc = binary_accuracy(predictions, batch.label)\n",
        "            \n",
        "            # keep track of loss and accuracy\n",
        "            epoch_loss += loss.item()\n",
        "            epoch_acc += acc.item()\n",
        "        \n",
        "    return epoch_loss / len(iterator), epoch_acc / len(iterator)"
      ],
      "execution_count": 25,
      "outputs": []
    },
    {
      "cell_type": "markdown",
      "metadata": {
        "id": "RSaQQNe5WT1x"
      },
      "source": [
        "### Run the model over few epochs to see the model performance"
      ]
    },
    {
      "cell_type": "code",
      "metadata": {
        "id": "q7UPwN0KAvVq",
        "colab": {
          "base_uri": "https://localhost:8080/"
        },
        "outputId": "8ec72cfb-e6bc-453f-c8ee-d5b00bc5ff71"
      },
      "source": [
        "\n",
        "N_EPOCHS = 20\n",
        "best_valid_loss = float('inf')\n",
        "\n",
        "trainLossList = []\n",
        "valLossList = []\n",
        "\n",
        "trainAccyList = []\n",
        "valAccyList = []\n",
        "\n",
        "for epoch in range(N_EPOCHS):\n",
        "     \n",
        "    # train the model\n",
        "    train_loss, train_acc = train(model, train_iterator, optimizer, criterion)\n",
        "    \n",
        "    # evaluate the model\n",
        "    valid_loss, valid_acc = evaluate(model, valid_iterator, criterion)\n",
        "    \n",
        "    # save the best model\n",
        "    if valid_loss < best_valid_loss:\n",
        "        best_valid_loss = valid_loss\n",
        "        torch.save(model.state_dict(), 'saved_weights.pt')\n",
        "\n",
        "    trainLossList.append(round(train_loss,2))\n",
        "    valLossList.append(round(valid_loss,2))\n",
        "\n",
        "    trainAccyList.append(round(train_acc,2))\n",
        "    valAccyList.append(round(valid_acc,2))\n",
        "\n",
        "    \n",
        "    print(f'\\tTrain Loss: {train_loss:.3f} | Train Acc: {train_acc*100:.2f}%')\n",
        "    print(f'\\t Val. Loss: {valid_loss:.3f} |  Val. Acc: {valid_acc*100:.2f}% \\n')"
      ],
      "execution_count": 26,
      "outputs": [
        {
          "output_type": "stream",
          "text": [
            "\tTrain Loss: 0.873 | Train Acc: 66.93%\n",
            "\t Val. Loss: 0.868 |  Val. Acc: 68.30% \n",
            "\n",
            "\tTrain Loss: 0.860 | Train Acc: 69.12%\n",
            "\t Val. Loss: 0.868 |  Val. Acc: 68.30% \n",
            "\n",
            "\tTrain Loss: 0.860 | Train Acc: 69.12%\n",
            "\t Val. Loss: 0.868 |  Val. Acc: 68.30% \n",
            "\n",
            "\tTrain Loss: 0.860 | Train Acc: 69.12%\n",
            "\t Val. Loss: 0.868 |  Val. Acc: 68.30% \n",
            "\n",
            "\tTrain Loss: 0.860 | Train Acc: 69.12%\n",
            "\t Val. Loss: 0.868 |  Val. Acc: 68.30% \n",
            "\n",
            "\tTrain Loss: 0.860 | Train Acc: 69.12%\n",
            "\t Val. Loss: 0.868 |  Val. Acc: 68.30% \n",
            "\n",
            "\tTrain Loss: 0.860 | Train Acc: 69.12%\n",
            "\t Val. Loss: 0.868 |  Val. Acc: 68.30% \n",
            "\n",
            "\tTrain Loss: 0.860 | Train Acc: 69.12%\n",
            "\t Val. Loss: 0.868 |  Val. Acc: 68.30% \n",
            "\n",
            "\tTrain Loss: 0.860 | Train Acc: 69.12%\n",
            "\t Val. Loss: 0.868 |  Val. Acc: 68.30% \n",
            "\n",
            "\tTrain Loss: 0.860 | Train Acc: 69.12%\n",
            "\t Val. Loss: 0.868 |  Val. Acc: 68.30% \n",
            "\n",
            "\tTrain Loss: 0.860 | Train Acc: 69.12%\n",
            "\t Val. Loss: 0.868 |  Val. Acc: 68.30% \n",
            "\n",
            "\tTrain Loss: 0.860 | Train Acc: 69.12%\n",
            "\t Val. Loss: 0.868 |  Val. Acc: 68.30% \n",
            "\n",
            "\tTrain Loss: 0.860 | Train Acc: 69.12%\n",
            "\t Val. Loss: 0.868 |  Val. Acc: 68.30% \n",
            "\n",
            "\tTrain Loss: 0.860 | Train Acc: 69.12%\n",
            "\t Val. Loss: 0.868 |  Val. Acc: 68.30% \n",
            "\n",
            "\tTrain Loss: 0.860 | Train Acc: 69.12%\n",
            "\t Val. Loss: 0.868 |  Val. Acc: 68.30% \n",
            "\n",
            "\tTrain Loss: 0.860 | Train Acc: 69.12%\n",
            "\t Val. Loss: 0.868 |  Val. Acc: 68.30% \n",
            "\n",
            "\tTrain Loss: 0.860 | Train Acc: 69.12%\n",
            "\t Val. Loss: 0.868 |  Val. Acc: 68.30% \n",
            "\n",
            "\tTrain Loss: 0.860 | Train Acc: 69.12%\n",
            "\t Val. Loss: 0.868 |  Val. Acc: 68.30% \n",
            "\n",
            "\tTrain Loss: 0.860 | Train Acc: 69.12%\n",
            "\t Val. Loss: 0.868 |  Val. Acc: 68.30% \n",
            "\n",
            "\tTrain Loss: 0.860 | Train Acc: 69.12%\n",
            "\t Val. Loss: 0.868 |  Val. Acc: 68.30% \n",
            "\n"
          ],
          "name": "stdout"
        }
      ]
    },
    {
      "cell_type": "markdown",
      "metadata": {
        "id": "1kaT0i4UWfIK"
      },
      "source": [
        "### A graph of model performance \n",
        "\n",
        "1.   Training and validation accuracy across different epochs\n",
        "2.   Training and validation loss across different epochs\n",
        "\n"
      ]
    },
    {
      "cell_type": "code",
      "metadata": {
        "id": "Wl132D123vmo",
        "colab": {
          "base_uri": "https://localhost:8080/",
          "height": 515
        },
        "outputId": "573087ca-1536-4e5a-f5d7-9402dea6c87c"
      },
      "source": [
        "xpoints = np.arange(len(trainLossList))\n",
        "ypoints4 = trainAccyList\n",
        "ypoints6 = valAccyList\n",
        "\n",
        "plt.rcParams['figure.figsize'] = [10, 8]\n",
        "plt.plot(xpoints, ypoints4, label = \"$ Training Accuracy $\" )\n",
        "plt.plot(xpoints, ypoints6, label = \"$ Validation Accuracy $\" )\n",
        "\n",
        "plt.legend(loc=\"upper right\")\n",
        "\n",
        "plt.title(\"model performance\", fontsize=16, fontweight='bold')\n",
        "plt.xlabel(\"epochs\")\n",
        "plt.ylabel(\"accuracy \")\n",
        "plt.show()"
      ],
      "execution_count": 27,
      "outputs": [
        {
          "output_type": "display_data",
          "data": {
            "image/png": "[encoded data removed]",
            "text/plain": [
              "<Figure size 720x576 with 1 Axes>"
            ]
          },
          "metadata": {
            "tags": [],
            "needs_background": "light"
          }
        }
      ]
    },
    {
      "cell_type": "code",
      "metadata": {
        "id": "dk9H1Sxn3vjx",
        "colab": {
          "base_uri": "https://localhost:8080/",
          "height": 515
        },
        "outputId": "dc736a8f-0e15-46eb-ca27-a5bae7e02eab"
      },
      "source": [
        "xpoints = np.arange(len(trainLossList))\n",
        "ypoints0 = trainLossList\n",
        "ypoints2 = valLossList\n",
        "\n",
        "\n",
        "plt.rcParams['figure.figsize'] = [10,8]\n",
        "plt.plot(xpoints, ypoints0 , label = \"$ Training Loss $\" )\n",
        "plt.plot(xpoints, ypoints2, label = \"$ Validation Loss $\" )\n",
        "\n",
        "plt.legend(loc=\"upper right\")\n",
        "\n",
        "plt.title(\"model performance\", fontsize=16, fontweight='bold')\n",
        "plt.xlabel(\"epochs\")\n",
        "plt.ylabel(\"loss \")\n",
        "plt.show()"
      ],
      "execution_count": 28,
      "outputs": [
        {
          "output_type": "display_data",
          "data": {
            "image/png": "[encoded data removed]",
            "text/plain": [
              "<Figure size 720x576 with 1 Axes>"
            ]
          },
          "metadata": {
            "tags": [],
            "needs_background": "light"
          }
        }
      ]
    },
    {
      "cell_type": "markdown",
      "metadata": {
        "id": "fJ9kTRpeWwoy"
      },
      "source": [
        "### A utility function to classify any tweets\n",
        "\n",
        "1.   saved weights are used to classify any input string to predict a label\n",
        "2.   a cached tokenizer which was saved earlier is used\n"
      ]
    },
    {
      "cell_type": "code",
      "metadata": {
        "id": "BXCGxks4AxT3"
      },
      "source": [
        "#load weights and tokenizer\n",
        "\n",
        "path='./saved_weights.pt'\n",
        "model.load_state_dict(torch.load(path));\n",
        "model.eval();\n",
        "tokenizer_file = open('./tokenizer.pkl', 'rb')\n",
        "tokenizer = pickle.load(tokenizer_file)\n",
        "\n",
        "#inference \n",
        "categories = {0: \"Negative\", 1:\"Positive\", 2:\"Neutral\"}\n",
        "\n",
        "import spacy\n",
        "nlp = spacy.load('en')\n",
        "\n",
        "def classify_tweet(tweet):\n",
        "    \n",
        "    \n",
        "    \n",
        "    # tokenize the tweet \n",
        "    tokenized = [tok.text for tok in nlp.tokenizer(tweet)] \n",
        "    #print(tokenized)\n",
        "    # convert to integer sequence using predefined tokenizer dictionary\n",
        "    indexed = [tokenizer[t] for t in tokenized] \n",
        "    #print(indexed)       \n",
        "    # compute no. of words        \n",
        "    length = [len(indexed)]\n",
        "    # convert to tensor                                    \n",
        "    tensor = torch.LongTensor(indexed).to(device)   \n",
        "    #print(tensor)\n",
        "    # reshape in form of batch, no. of words           \n",
        "    tensor = tensor.unsqueeze(1).T  \n",
        "    #print(tensor)\n",
        "    # convert to tensor                          \n",
        "    length_tensor = torch.LongTensor(length)\n",
        "    #print(length_tensor)\n",
        "    # Get the model prediction                  \n",
        "    prediction = model(tensor, length_tensor)\n",
        "\n",
        "    _, pred = torch.max(prediction, 1) \n",
        "    #print(pred.size(),pred)\n",
        "    \n",
        "    return categories[pred.item()]"
      ],
      "execution_count": 29,
      "outputs": []
    },
    {
      "cell_type": "markdown",
      "metadata": {
        "id": "OgwS0wUCdtOi"
      },
      "source": [
        "### Classify a single sentence and print the hidden state at each step of encoder and decoder"
      ]
    },
    {
      "cell_type": "code",
      "metadata": {
        "id": "C1mmb9YiHWOv",
        "colab": {
          "base_uri": "https://localhost:8080/",
          "height": 1000
        },
        "outputId": "efda1cfc-8e28-42ce-985a-c011f3c03c9e"
      },
      "source": [
        "printEncoderDecoderOutput = True\n",
        "classify_tweet(\"An invalid explanation for why Nixon will let women on the army.\")"
      ],
      "execution_count": 30,
      "outputs": [
        {
          "output_type": "stream",
          "text": [
            "encdr word  0 torch.Size([1, 100]) tensor([[-7.5415e-03, -5.8316e-01, -2.7478e-10, -4.4280e-02, -3.5552e-03,\n",
            "          4.5618e-02,  3.6018e-04, -3.8208e-03,  7.1852e-01, -1.4767e-01,\n",
            "         -8.9210e-11, -6.4771e-07, -4.3824e-02,  7.0296e-01, -7.6156e-01,\n",
            "         -6.4553e-01, -1.0786e-05,  7.1445e-01, -7.7945e-01,  1.3624e-06,\n",
            "          6.9796e-01,  7.6159e-01,  7.6143e-01,  1.8594e-03,  8.1784e-02,\n",
            "         -2.0351e-04, -7.5138e-02, -7.3998e-01,  7.2620e-01, -4.1092e-01,\n",
            "         -7.6149e-01,  1.7712e-02, -1.1448e-01,  3.5338e-01, -7.2695e-01,\n",
            "          2.4874e-01,  7.0965e-01, -3.3222e-03, -7.2947e-01,  4.3954e-04,\n",
            "         -3.7653e-09,  7.5843e-01, -6.7006e-01,  7.1896e-01, -7.8914e-01,\n",
            "          2.6949e-04,  3.4848e-08,  7.4422e-03,  1.5128e-12,  7.6926e-01,\n",
            "         -2.8092e-05,  7.0295e-01, -5.2160e-01, -7.2220e-01, -1.8766e-07,\n",
            "         -6.4822e-01,  7.5101e-01,  8.1824e-10, -6.8574e-01,  2.1851e-01,\n",
            "          3.1777e-04,  3.9399e-05, -9.0248e-23,  1.6040e-09,  6.3198e-01,\n",
            "         -1.7160e-10,  4.4626e-03,  7.4280e-01, -6.8716e-01,  1.0819e-13,\n",
            "          1.1503e-01,  7.5165e-01, -3.3378e-02, -7.5699e-01, -5.2097e-01,\n",
            "         -6.5957e-02,  1.2978e-02, -9.6073e-11, -7.6028e-01, -5.5529e-06,\n",
            "          5.6494e-01, -7.4589e-01, -2.9987e-02,  1.6932e-01, -1.6930e-13,\n",
            "         -1.1324e-06, -2.3541e-04, -7.9287e-01,  7.3163e-01, -1.7580e-03,\n",
            "         -8.3766e-06,  1.7785e-03,  1.6159e-18, -3.4959e-12, -2.5781e-05,\n",
            "          1.5970e-01,  1.2365e-06, -8.0057e-01, -7.4605e-05,  7.6138e-01]],\n",
            "       device='cuda:0', grad_fn=<ThnnFusedLstmCellBackward>)\n",
            "encdr word  1 torch.Size([1, 100]) tensor([[ 2.6519e-01, -2.5355e-02, -3.4752e-14, -7.5355e-01, -7.7675e-01,\n",
            "          1.2070e-08,  4.9756e-02, -1.0227e-01,  2.2362e-02, -1.5153e-01,\n",
            "         -6.9826e-16,  7.8736e-02,  8.4858e-20,  1.7382e-03, -4.7701e-03,\n",
            "         -1.0470e-04,  1.0424e-04, -1.6688e-06, -7.2121e-01, -7.1034e-01,\n",
            "          7.9090e-10, -1.7995e-01,  2.3645e-03,  7.3208e-01, -2.3730e-06,\n",
            "         -7.8285e-03,  2.7265e-01, -6.8983e-02,  2.0472e-01, -1.6335e-01,\n",
            "         -1.7991e-01,  6.2031e-01, -9.5944e-01,  2.1096e-05, -5.2736e-05,\n",
            "          2.2048e-08,  1.2749e-05,  1.5458e-01,  2.4052e-02,  4.2995e-04,\n",
            "         -8.1020e-02,  1.1787e-01,  6.4892e-04,  3.4550e-08, -7.3566e-04,\n",
            "          6.9082e-09, -3.3348e-02, -1.0713e-05,  1.4216e-01,  8.8304e-01,\n",
            "         -6.7917e-11,  1.6431e-01,  3.4821e-02, -1.4169e-01,  1.1769e-03,\n",
            "          1.4359e-06,  1.4455e-03, -1.3624e-02, -2.1078e-07, -5.8367e-01,\n",
            "         -1.9295e-02, -7.6891e-08, -3.7933e-12,  6.8046e-06,  1.0999e-07,\n",
            "         -1.1299e-10,  1.3669e-01,  3.4885e-01,  7.5875e-01,  1.2602e-04,\n",
            "          8.0995e-01,  2.2053e-05,  1.0874e-02, -7.1886e-02, -2.1541e-01,\n",
            "         -1.4984e-03, -2.7696e-01, -2.6795e-01, -8.2061e-04, -5.1009e-06,\n",
            "          2.1023e-04, -1.1432e-08,  6.5461e-01,  2.8369e-06, -7.6159e-01,\n",
            "         -3.9291e-04, -8.6538e-17, -2.6525e-05,  3.7573e-07, -4.1646e-10,\n",
            "         -1.1047e-12, -1.6030e-04,  1.1784e-11,  1.7528e-02, -7.0097e-05,\n",
            "          2.8603e-04,  1.2882e-02, -1.0697e-01, -1.5114e-10, -2.4601e-01]],\n",
            "       device='cuda:0', grad_fn=<ThnnFusedLstmCellBackward>)\n",
            "encdr word  2 torch.Size([1, 100]) tensor([[ 7.6822e-01, -8.6972e-01, -2.5122e-07, -5.2501e-02, -1.1159e-02,\n",
            "          1.8218e-01,  9.6427e-05, -3.9110e-01,  3.6913e-04, -2.9222e-09,\n",
            "          4.1977e-12,  1.0162e-08, -7.6158e-01, -1.8935e-02, -1.5893e-02,\n",
            "         -6.2593e-03,  2.5309e-03,  3.2572e-01, -7.5770e-01, -1.5420e-08,\n",
            "         -2.9643e-09,  7.6147e-01, -5.6750e-05,  1.9953e-07, -7.6159e-01,\n",
            "         -7.8175e-08, -1.3673e-01, -1.9144e-01,  7.4108e-01, -4.6283e-04,\n",
            "         -2.1844e-02,  1.0613e-08, -2.4194e-12, -6.1795e-01,  2.6023e-01,\n",
            "         -1.5972e-05, -3.4860e-11, -5.4592e-01,  1.9818e-04,  4.3595e-08,\n",
            "         -8.7309e-02, -7.1095e-01, -9.1158e-04,  8.9633e-01, -6.8740e-09,\n",
            "         -5.1744e-09, -1.1033e-01, -7.0318e-01,  7.3771e-10,  9.8611e-01,\n",
            "         -5.1615e-05,  1.6416e-01, -4.1961e-02, -8.6808e-06,  5.9258e-04,\n",
            "         -2.8682e-02, -2.3678e-03, -1.8917e-04, -9.5078e-01, -7.4365e-01,\n",
            "         -7.4212e-01, -3.0196e-03, -9.3731e-14,  7.6100e-01, -6.0896e-14,\n",
            "          6.0125e-01, -4.8697e-01,  1.0756e-10,  9.3040e-02,  7.4877e-04,\n",
            "          7.6793e-01, -1.1652e-03,  3.9493e-02,  5.0683e-04, -9.9329e-08,\n",
            "         -7.2180e-07, -5.8342e-01, -1.6477e-05,  1.8122e-04,  5.6621e-01,\n",
            "          4.1518e-01,  6.0593e-01,  9.4505e-01,  1.3152e-03,  2.5837e-02,\n",
            "         -2.6293e-04, -5.1191e-10, -7.2053e-01,  9.9067e-01, -1.5884e-05,\n",
            "         -3.6059e-08, -7.4520e-02, -1.0889e-09,  2.7856e-06,  7.6151e-01,\n",
            "         -7.5965e-01,  7.6647e-01, -3.2655e-01,  7.2805e-01,  3.5011e-01]],\n",
            "       device='cuda:0', grad_fn=<ThnnFusedLstmCellBackward>)\n",
            "encdr word  3 torch.Size([1, 100]) tensor([[ 7.5972e-01,  4.0791e-01,  2.4253e-01, -8.0849e-04,  7.6190e-02,\n",
            "         -4.8953e-02,  7.7752e-01, -6.3404e-15, -7.5842e-01, -3.9010e-04,\n",
            "         -3.5795e-02,  1.2018e-02, -2.3236e-01, -7.6939e-01, -3.8339e-03,\n",
            "          7.6118e-01, -3.8257e-12, -2.4114e-01,  1.8477e-09,  7.4448e-01,\n",
            "          7.6123e-01, -1.7579e-02, -9.6665e-03,  6.1852e-01, -1.0138e-02,\n",
            "          7.6137e-01, -1.1582e-20, -1.7762e-01, -7.5318e-01, -7.6147e-01,\n",
            "         -7.9444e-01,  1.0610e-05, -1.2842e-01, -1.0750e-04,  2.4145e-14,\n",
            "         -2.8269e-04, -2.6701e-01, -1.0075e-14,  9.3421e-01, -7.5947e-01,\n",
            "         -5.8326e-29,  1.2855e-16,  7.6127e-01, -4.9779e-07,  7.6159e-01,\n",
            "          7.5160e-01,  9.6063e-02, -6.7944e-03, -4.0029e-01, -3.0279e-01,\n",
            "          7.6152e-01, -5.5284e-01,  7.5582e-01,  5.0766e-08,  7.6189e-01,\n",
            "         -4.8528e-01, -6.6370e-04, -4.5236e-13, -9.9311e-01, -5.2583e-01,\n",
            "         -6.6325e-07, -9.3823e-01, -7.6159e-01, -7.6140e-01,  3.0575e-02,\n",
            "          4.9652e-08,  2.1458e-01, -3.4403e-04,  8.5933e-11, -3.2688e-02,\n",
            "         -7.6086e-01, -4.7407e-09,  2.6289e-04,  7.2220e-08,  7.0849e-08,\n",
            "          4.9357e-01, -1.4129e-30, -2.2319e-20, -7.6146e-01,  1.7725e-23,\n",
            "         -7.6143e-01,  3.4804e-01, -1.5826e-11,  4.6264e-08,  4.5970e-09,\n",
            "         -2.7142e-03, -1.6586e-20,  8.9221e-02,  1.1707e-05, -7.4598e-01,\n",
            "          7.6122e-01, -8.0012e-01, -1.9655e-05, -7.5505e-01,  9.5108e-06,\n",
            "         -9.6388e-01,  2.2800e-05, -2.6216e-01,  1.9586e-03,  5.2842e-11]],\n",
            "       device='cuda:0', grad_fn=<ThnnFusedLstmCellBackward>)\n",
            "encdr word  4 torch.Size([1, 100]) tensor([[ 2.1142e-13, -2.5722e-04, -1.4731e-04, -1.0069e-19,  1.6583e-04,\n",
            "         -7.1509e-01, -7.5608e-01, -2.0712e-30,  7.3529e-03,  7.4564e-01,\n",
            "         -3.5772e-02,  9.0410e-04, -7.3919e-01, -7.6188e-01, -9.6598e-09,\n",
            "         -6.4259e-01, -3.3181e-10,  5.3532e-01, -2.6789e-15,  7.4448e-01,\n",
            "          1.6441e-07,  9.1306e-11,  7.6159e-01,  7.9683e-01, -3.1072e-26,\n",
            "          4.5602e-01,  5.0556e-27, -4.4340e-16,  1.9121e-02, -4.0302e-09,\n",
            "         -6.2978e-02, -1.9319e-03, -8.1072e-01,  8.6892e-18, -8.6371e-20,\n",
            "          7.6148e-01,  9.6242e-06, -4.8733e-19,  5.9831e-01,  4.2611e-04,\n",
            "         -7.6159e-01,  1.3203e-03, -7.7729e-04, -1.7796e-02, -6.2466e-05,\n",
            "         -2.7585e-01,  6.5299e-01, -7.6167e-01,  5.1976e-01,  5.1100e-01,\n",
            "         -3.5675e-01, -1.3974e-09, -1.3606e-02,  5.8088e-05, -2.1966e-01,\n",
            "         -7.5944e-01,  1.8847e-04, -3.9676e-03, -8.6342e-02, -1.1394e-10,\n",
            "          1.1029e-08, -7.7554e-01, -1.8324e-01, -2.7173e-20,  7.9692e-01,\n",
            "         -1.3208e-06,  1.7867e-06, -1.1955e-03,  7.8070e-01,  9.4182e-02,\n",
            "         -1.1727e-16,  7.5094e-01, -3.4765e-02, -7.6134e-01,  2.7368e-01,\n",
            "          4.9077e-01, -1.5347e-04, -7.6156e-01,  7.6159e-01,  4.6606e-19,\n",
            "          1.5772e-01, -8.3986e-03, -2.6814e-24, -7.4416e-01,  6.4894e-12,\n",
            "         -1.7551e-20, -7.3988e-01, -7.4168e-01, -7.5294e-01,  7.6066e-01,\n",
            "          7.6007e-01, -6.3766e-03, -7.6160e-01,  1.5393e-02, -7.1044e-01,\n",
            "         -7.6073e-01,  4.6679e-10,  6.0780e-01, -2.8383e-01, -1.0851e-08]],\n",
            "       device='cuda:0', grad_fn=<ThnnFusedLstmCellBackward>)\n",
            "encdr word  5 torch.Size([1, 100]) tensor([[ 1.3616e-06,  7.2829e-01,  4.8979e-02,  1.4825e-01,  7.6163e-01,\n",
            "         -1.5157e-03, -1.7783e-01, -1.1390e-05, -7.5633e-01,  6.6553e-08,\n",
            "         -1.1103e-05, -7.5557e-01, -1.9379e-16, -2.3255e-01,  6.6882e-02,\n",
            "         -7.5788e-01,  6.4748e-01, -2.5137e-01,  8.7192e-08, -2.3361e-02,\n",
            "         -1.0990e-11, -7.2312e-01,  3.4722e-11, -5.2029e-01, -9.4193e-06,\n",
            "          9.0367e-01, -1.9652e-01,  6.8982e-01,  5.9623e-03, -1.7523e-05,\n",
            "         -1.4594e-16, -1.3737e-04,  8.4434e-11,  3.6757e-11,  3.5395e-01,\n",
            "          2.3450e-23, -2.0102e-06,  5.2956e-01,  2.7888e-08, -7.6149e-01,\n",
            "         -7.6159e-01, -8.5843e-04,  8.2960e-02, -7.6159e-01,  5.0123e-12,\n",
            "          7.5911e-01,  6.5595e-01,  1.4011e-03, -5.9050e-01, -7.6158e-01,\n",
            "          7.4939e-01, -7.4399e-01,  2.0558e-02, -1.6311e-08,  1.7329e-05,\n",
            "         -3.7177e-01, -2.8697e-03,  6.5881e-04,  7.0524e-01,  2.2739e-01,\n",
            "         -7.6119e-01,  6.8544e-01, -5.5849e-09, -7.6159e-01,  1.0997e-06,\n",
            "         -7.5616e-03,  2.8806e-02, -1.8971e-20,  1.9295e-03, -5.6067e-01,\n",
            "          2.4711e-07, -4.4565e-05,  5.6602e-03,  3.5933e-07,  7.3774e-01,\n",
            "          3.8771e-03, -2.7764e-04, -1.2614e-07, -2.1813e-17,  7.5386e-01,\n",
            "         -9.0140e-02, -7.5521e-01, -4.6065e-01, -3.7255e-01, -4.2915e-02,\n",
            "         -7.3590e-01, -3.1395e-04, -3.1079e-07,  1.5238e-02, -8.8181e-06,\n",
            "          7.8294e-01, -8.0057e-01, -2.1427e-02, -7.5505e-01,  7.0540e-01,\n",
            "         -1.4602e-01,  7.6166e-01, -6.8630e-11, -1.6731e-02,  7.6159e-01]],\n",
            "       device='cuda:0', grad_fn=<ThnnFusedLstmCellBackward>)\n",
            "encdr word  6 torch.Size([1, 100]) tensor([[ 2.7391e-04,  7.8007e-01,  8.0085e-01,  6.3341e-05,  7.6821e-01,\n",
            "         -7.0081e-04,  6.5498e-01,  7.6158e-01, -7.4081e-01, -1.9387e-06,\n",
            "         -7.5860e-01,  2.1921e-08,  5.1115e-17, -3.0533e-04,  3.5725e-04,\n",
            "         -1.9586e-06,  7.6359e-01, -7.8620e-01,  8.9216e-01,  7.4393e-01,\n",
            "         -7.6129e-01, -3.7942e-03, -1.6114e-03, -3.0175e-06, -7.4493e-01,\n",
            "          9.0397e-01, -8.3268e-01,  7.3990e-01,  6.8844e-05,  1.7255e-01,\n",
            "          1.9743e-10, -3.2164e-06,  1.8803e-04,  2.1059e-08,  6.0559e-06,\n",
            "         -1.4896e-14, -2.7787e-03,  9.1995e-01,  7.6159e-01, -6.9411e-04,\n",
            "          1.7129e-01, -1.0234e-01,  3.4720e-03, -3.7808e-04,  8.0892e-13,\n",
            "          1.2998e-03,  1.5247e-06,  1.0599e-21, -7.9771e-01, -8.7785e-01,\n",
            "          7.6486e-01, -8.5217e-01,  2.7221e-01,  2.0821e-01,  1.5444e-03,\n",
            "         -2.5556e-03,  2.9576e-01, -5.2251e-01,  5.7776e-08,  2.5155e-05,\n",
            "         -3.3397e-01, -4.4996e-06, -6.4288e-01, -1.1108e-06,  1.1624e-03,\n",
            "          6.2651e-04,  1.5564e-04,  2.8751e-07, -4.0809e-06, -7.9096e-01,\n",
            "         -7.6047e-01, -4.1506e-08,  1.0409e-04,  4.1854e-02,  9.5191e-01,\n",
            "          3.1131e-03, -7.2678e-05,  4.8955e-01, -4.0901e-18,  6.3412e-02,\n",
            "         -5.8060e-11, -8.5878e-04, -9.0484e-01,  2.6753e-01, -1.1599e-04,\n",
            "         -9.6258e-01, -1.1921e-07,  1.5854e-05,  9.1732e-04, -9.7057e-05,\n",
            "          1.1724e-03, -2.8622e-10,  5.3581e-01, -5.6340e-01,  1.2117e-04,\n",
            "         -2.3862e-08,  8.4681e-08, -8.3518e-08, -6.9634e-01,  2.9881e-04]],\n",
            "       device='cuda:0', grad_fn=<ThnnFusedLstmCellBackward>)\n",
            "encdr word  7 torch.Size([1, 100]) tensor([[ 1.0153e-02,  9.5483e-12,  8.1215e-05,  1.3825e-07,  5.7590e-01,\n",
            "         -1.5440e-12,  9.4611e-01,  2.2698e-03, -7.3679e-01, -9.2510e-01,\n",
            "         -9.5791e-01,  3.5093e-04,  2.2408e-10, -2.7253e-05,  2.8779e-11,\n",
            "          2.5316e-09,  9.9220e-01, -5.3800e-18,  1.4052e-08,  9.6401e-01,\n",
            "         -6.4166e-01, -3.0878e-02, -2.0104e-01, -7.8342e-01, -1.0450e-13,\n",
            "          9.0113e-01, -8.3015e-01,  5.1938e-03, -7.6138e-01,  3.4565e-11,\n",
            "          5.0547e-01, -7.6186e-01,  6.2805e-01, -7.6049e-01,  1.2513e-16,\n",
            "         -3.1643e-11, -9.6263e-01,  9.8751e-01,  1.1510e-07, -9.9477e-01,\n",
            "          7.6036e-01, -4.3522e-09,  4.8556e-05, -1.4454e-13,  4.2590e-15,\n",
            "          9.8807e-01,  7.6984e-01,  1.0889e-16, -9.6975e-01, -9.7484e-01,\n",
            "          1.0938e-08, -7.5390e-01,  8.5638e-01,  1.8568e-03,  1.3277e-01,\n",
            "          5.0795e-02, -3.1492e-13, -6.8717e-05,  9.6669e-20,  1.4656e-04,\n",
            "         -1.2804e-01, -1.6444e-03, -9.4281e-01, -5.8655e-01, -2.8678e-08,\n",
            "          2.3341e-11, -3.4603e-10,  2.0917e-06,  7.6159e-01, -7.9433e-01,\n",
            "         -7.8105e-01, -8.1869e-04,  7.1078e-01,  9.4680e-01,  1.2870e-11,\n",
            "          7.6225e-01, -5.6686e-02, -1.2235e-01,  1.5402e-14, -1.9819e-15,\n",
            "         -2.7412e-01, -5.4539e-01, -1.0197e-01,  1.0349e-01, -6.3216e-06,\n",
            "         -7.2400e-03, -6.1051e-21,  7.6124e-01,  5.3337e-13, -1.0448e-10,\n",
            "          8.7888e-01, -7.6155e-01, -6.9571e-10, -5.5903e-01,  2.4071e-04,\n",
            "         -4.2417e-01,  3.4114e-07,  3.1702e-04,  2.4494e-04,  1.7196e-09]],\n",
            "       device='cuda:0', grad_fn=<ThnnFusedLstmCellBackward>)\n",
            "encdr word  8 torch.Size([1, 100]) tensor([[ 8.1256e-01,  0.0000e+00,  7.6160e-01,  2.2086e-26,  7.6160e-01,\n",
            "         -9.2937e-01,  9.9254e-01,  9.4829e-02, -9.6078e-01, -9.8952e-01,\n",
            "         -3.7724e-01,  2.9617e-17,  0.0000e+00, -5.0080e-29,  3.2715e-01,\n",
            "          3.5032e-44,  9.9894e-01, -0.0000e+00,  0.0000e+00,  9.9505e-01,\n",
            "         -9.9411e-01, -1.8920e-18, -9.6410e-01, -7.8342e-01, -2.3580e-37,\n",
            "          2.3646e-03, -5.2484e-13,  7.6157e-01, -9.6402e-01,  2.5269e-37,\n",
            "          2.2013e-02, -9.6407e-01,  9.5314e-01, -9.6403e-01,  0.0000e+00,\n",
            "         -6.4034e-12, -9.9486e-01,  1.4510e-02,  9.6932e-01, -9.9929e-01,\n",
            "          7.5759e-01, -0.0000e+00,  0.0000e+00, -0.0000e+00,  1.1053e-38,\n",
            "          9.9887e-01,  9.6541e-01,  8.6698e-34, -9.9585e-01, -9.9761e-01,\n",
            "          0.0000e+00, -4.0600e-06,  9.7928e-01,  5.2833e-31,  9.6448e-01,\n",
            "          7.8213e-01, -0.0000e+00, -4.2039e-45,  0.0000e+00,  0.0000e+00,\n",
            "         -2.3761e-08, -6.7550e-41, -9.9206e-01, -9.6403e-01, -7.9560e-34,\n",
            "          1.6317e-20, -0.0000e+00, -1.1701e-03,  7.6159e-01, -9.6945e-01,\n",
            "         -9.6730e-01, -6.1891e-06,  2.2750e-32,  9.9467e-01,  5.1996e-11,\n",
            "          9.6414e-01, -5.0262e-04, -7.6159e-01,  3.0075e-28, -8.4438e-37,\n",
            "         -1.2324e-15,  3.6898e-01, -4.0238e-02,  1.4330e-06, -1.1989e-29,\n",
            "         -9.5316e-01,  5.2127e-39,  3.2764e-02, -1.0905e-10, -2.8026e-45,\n",
            "          9.8266e-01, -7.6159e-01, -1.2885e-02, -9.2742e-01,  9.5014e-01,\n",
            "         -9.4313e-04,  6.1706e-29,  3.6005e-02,  8.6426e-01,  0.0000e+00]],\n",
            "       device='cuda:0', grad_fn=<ThnnFusedLstmCellBackward>)\n",
            "encdr word  9 torch.Size([1, 100]) tensor([[ 9.7240e-01,  5.0242e-04,  9.6394e-01,  9.0024e-15,  1.7675e-09,\n",
            "         -9.8811e-01,  4.9386e-05,  8.5482e-10, -9.9420e-01, -9.9857e-01,\n",
            "         -5.3844e-01,  1.3236e-23,  7.5939e-01, -7.6176e-01,  3.7534e-04,\n",
            "          7.3320e-02,  9.9986e-01, -2.5892e-30,  2.9146e-07,  9.9384e-01,\n",
            "         -9.5413e-01, -6.0927e-15, -9.9501e-01, -7.6192e-01, -4.0823e-30,\n",
            "          1.2462e-08, -7.6159e-01,  9.6351e-01, -9.9504e-01,  4.2858e-12,\n",
            "          9.6211e-01, -9.7474e-01,  9.7671e-01, -9.6102e-01,  6.9500e-16,\n",
            "         -9.5600e-01, -9.9930e-01,  1.0472e-02,  1.7024e-02, -9.9990e-01,\n",
            "          1.5100e-07, -1.1175e-08,  4.5298e-13, -4.6576e-26,  1.4008e-07,\n",
            "          5.3666e-04,  9.9525e-01,  7.3554e-01, -9.9943e-01, -5.6881e-07,\n",
            "          1.3477e-08, -2.1778e-10,  9.9716e-01,  7.6157e-01,  9.9512e-01,\n",
            "          9.6745e-01, -4.3862e-15, -1.0433e-04,  7.3050e-15,  8.2974e-03,\n",
            "         -5.3145e-07, -3.1615e-04, -9.9892e-01, -9.9501e-01, -1.5923e-08,\n",
            "          1.3474e-16, -7.5148e-01, -9.7600e-17,  9.6376e-01, -9.5208e-02,\n",
            "         -8.7310e-01, -7.6212e-01,  1.1214e-10,  9.9927e-01,  7.6159e-01,\n",
            "          9.8219e-01, -1.2297e-12, -9.5754e-01, -6.3560e-01, -2.7903e-21,\n",
            "         -7.6160e-01,  3.8023e-01, -1.4356e-09,  7.6947e-16, -6.9399e-05,\n",
            "         -3.3537e-10,  7.3901e-01,  8.7644e-01, -3.8725e-11,  2.7262e-01,\n",
            "          7.5686e-01, -6.8164e-06, -3.0624e-07, -8.7604e-01,  9.8380e-01,\n",
            "         -7.6188e-01, -1.3255e-25,  9.6535e-01,  3.4485e-10,  1.7935e-11]],\n",
            "       device='cuda:0', grad_fn=<ThnnFusedLstmCellBackward>)\n",
            "encdr word  10 torch.Size([1, 100]) tensor([[ 8.0742e-01,  2.5918e-14,  3.2187e-02,  9.2011e-25,  1.4000e-09,\n",
            "         -7.0363e-04,  9.4638e-01,  1.4013e-45, -9.5819e-01, -9.9815e-01,\n",
            "         -3.6881e-02, -4.5622e-05, -4.8773e-04, -2.2130e-10, -3.2352e-03,\n",
            "          1.9824e-05, -1.0112e-02,  3.7831e-11, -5.2332e-31,  9.6859e-01,\n",
            "         -7.2213e-01,  1.0486e-30, -9.6410e-01, -2.0089e-02,  3.0707e-32,\n",
            "         -7.6044e-01, -1.7485e-10,  3.7696e-05, -9.6396e-01, -2.6496e-07,\n",
            "          1.5975e-01, -9.6250e-01,  8.3982e-01, -2.7081e-01, -3.5380e-16,\n",
            "         -7.1493e-01, -9.9673e-01, -2.7244e-26,  8.8999e-01, -9.9929e-01,\n",
            "         -1.9204e-18,  9.8701e-23,  1.9923e-07,  8.2552e-14,  5.8260e-01,\n",
            "          9.9998e-01,  9.9936e-01, -7.4303e-01, -9.9992e-01,  4.2034e-07,\n",
            "          2.7712e-13,  2.5593e-26,  9.7924e-01, -8.3058e-04,  9.6448e-01,\n",
            "          9.9524e-01, -7.7938e-13, -7.6133e-01,  4.8957e-08,  8.0816e-14,\n",
            "          8.3687e-32, -4.4304e-21,  3.4223e-08,  6.9346e-01,  8.4760e-02,\n",
            "         -5.2188e-34, -3.5214e-06, -8.6224e-17,  9.9502e-01, -1.9367e-09,\n",
            "         -1.3528e-03, -1.8888e-08,  1.1013e-12,  9.9464e-01,  7.5914e-01,\n",
            "          9.5713e-01, -2.9843e-20, -7.5502e-01,  2.4704e-01,  1.2364e-39,\n",
            "         -5.5254e-05, -5.7445e-01, -2.1067e-35, -3.7233e-17,  5.7527e-01,\n",
            "         -3.7869e-26,  7.0881e-17,  6.1220e-01,  1.0526e-02,  9.6403e-01,\n",
            "          6.9320e-05, -7.3245e-01, -7.6610e-01, -4.9068e-01,  9.4262e-01,\n",
            "         -6.8307e-04, -2.9401e-12,  9.9524e-01, -1.8357e-43, -3.1241e-16]],\n",
            "       device='cuda:0', grad_fn=<ThnnFusedLstmCellBackward>)\n",
            "encdr word  11 torch.Size([1, 100]) tensor([[ 9.7156e-01, -1.2746e-39,  9.6160e-01, -1.6906e-35,  3.0338e-18,\n",
            "         -3.4040e-13,  9.9057e-01,  1.2738e-24, -9.8413e-01, -9.8647e-01,\n",
            "         -2.5912e-03, -4.1298e-05,  7.4280e-01,  6.9627e-14, -3.0295e-19,\n",
            "          8.6802e-25, -9.5602e-01, -1.0591e-17,  4.3440e-44,  9.9569e-01,\n",
            "          8.7697e-02, -1.7047e-32, -9.9506e-01, -7.6990e-01,  7.2868e-44,\n",
            "         -4.6778e-03, -6.1429e-22,  4.1632e-11, -9.9504e-01,  2.4925e-15,\n",
            "          8.2141e-01, -9.9484e-01,  9.7671e-01, -5.4270e-01,  3.6293e-33,\n",
            "          6.1802e-02, -9.9956e-01,  3.8132e-30,  9.8437e-01, -9.9990e-01,\n",
            "          5.9197e-07, -0.0000e+00,  3.2044e-10, -1.4989e-31,  9.3075e-01,\n",
            "          1.0000e+00,  9.9991e-01,  7.5997e-01, -9.9999e-01,  1.9740e-14,\n",
            "          1.4889e-23, -1.0415e-35,  9.9716e-01,  1.5088e-15,  7.7043e-01,\n",
            "          9.9935e-01,  4.6589e-37, -4.8575e-01,  9.6795e-29,  6.7727e-20,\n",
            "          7.0065e-43, -1.9437e-19, -5.4308e-02, -1.3460e-01,  7.5697e-03,\n",
            "          3.8588e-31, -1.5657e-26, -7.6159e-01,  9.9932e-01, -3.8789e-01,\n",
            "         -2.8927e-10,  4.2618e-01,  1.2450e-22,  9.8924e-01,  4.4834e-05,\n",
            "          9.9409e-01, -1.2695e-22, -9.6398e-01, -5.5687e-01, -1.7375e-30,\n",
            "         -7.5511e-01, -5.7439e-01,  2.8301e-41,  1.3165e-12, -5.2538e-06,\n",
            "         -0.0000e+00,  8.1697e-17,  9.3608e-01, -6.2562e-03,  8.5229e-02,\n",
            "         -6.0115e-02, -9.5879e-01, -7.1946e-01, -9.1161e-01,  9.9113e-01,\n",
            "          7.6131e-01,  9.9334e-25,  9.9935e-01,  4.8354e-30, -7.4838e-38]],\n",
            "       device='cuda:0', grad_fn=<ThnnFusedLstmCellBackward>)\n",
            "encdr word  12 torch.Size([1, 100]) tensor([[ 8.6283e-01,  4.3449e-14,  7.6159e-01,  3.0115e-33,  5.9379e-25,\n",
            "         -1.7221e-07,  9.9872e-01,  9.3408e-38, -9.9784e-01, -9.0553e-01,\n",
            "          5.5460e-03, -4.2403e-24,  9.6402e-01,  1.6017e-08,  4.1291e-06,\n",
            "          9.6289e-05, -9.8389e-01, -2.8404e-04,  7.6321e-21,  9.9222e-01,\n",
            "         -7.2213e-01, -3.3146e-20, -9.9669e-01, -7.9003e-01, -6.1793e-19,\n",
            "          6.9477e-01, -1.7885e-19,  3.7333e-01, -9.6395e-01, -6.3733e-05,\n",
            "          8.9800e-01, -9.9930e-01,  9.9682e-01, -7.3341e-01,  7.3389e-13,\n",
            "         -7.6155e-01, -9.9994e-01,  5.4263e-17,  9.9787e-01, -9.9949e-01,\n",
            "          8.5307e-25,  2.6290e-19,  5.9205e-13, -0.0000e+00,  9.0063e-01,\n",
            "          9.9998e-01,  2.2983e-03,  2.1615e-01, -1.0000e+00,  5.9114e-28,\n",
            "          7.1636e-03, -2.3880e-20,  9.9962e-01,  7.6159e-01,  9.6542e-01,\n",
            "          9.9991e-01, -3.3557e-03, -7.6159e-01,  7.6153e-01,  1.8906e-16,\n",
            "         -1.4771e-28, -3.7772e-01, -7.6159e-01, -8.1054e-01, -7.6159e-01,\n",
            "          7.2987e-19, -5.6374e-05, -4.7430e-01,  9.9990e-01, -7.6253e-01,\n",
            "         -5.3684e-20, -4.7870e-01,  1.9328e-30,  9.9854e-01,  9.5005e-01,\n",
            "          9.9920e-01, -2.8050e-21, -2.9239e-01, -9.2582e-01, -6.3878e-18,\n",
            "         -9.6293e-01,  3.3278e-01, -4.0987e-31,  7.2999e-01, -1.0025e-38,\n",
            "         -3.9360e-27,  1.5968e-23,  9.9110e-01, -3.9364e-15,  9.9921e-01,\n",
            "          7.1231e-14, -3.4933e-01,  9.0011e-02, -9.8756e-01,  9.9878e-01,\n",
            "          9.6398e-01, -1.7063e-02,  9.9991e-01,  3.1621e-10,  7.8305e-10]],\n",
            "       device='cuda:0', grad_fn=<ThnnFusedLstmCellBackward>)\n",
            "decd word  0 torch.Size([1, 100]) tensor([[-7.4494e-01,  8.0216e-01, -0.0000e+00,  0.0000e+00,  0.0000e+00,\n",
            "          8.0473e-01,  0.0000e+00,  0.0000e+00,  0.0000e+00,  0.0000e+00,\n",
            "         -8.1030e-01,  0.0000e+00,  4.7953e-17,  0.0000e+00,  0.0000e+00,\n",
            "          0.0000e+00,  0.0000e+00,  0.0000e+00, -7.6562e-01,  0.0000e+00,\n",
            "          0.0000e+00,  2.6597e-26,  7.7327e-01,  0.0000e+00,  0.0000e+00,\n",
            "          7.5182e-01,  8.4748e-01,  7.6820e-01,  0.0000e+00, -0.0000e+00,\n",
            "         -0.0000e+00, -8.1400e-01, -5.7905e-01,  0.0000e+00, -0.0000e+00,\n",
            "         -8.1752e-01, -0.0000e+00, -7.2009e-01, -7.2648e-01,  0.0000e+00,\n",
            "          6.7132e-01, -3.8346e-02,  0.0000e+00,  0.0000e+00, -8.0219e-01,\n",
            "          0.0000e+00,  8.3209e-01,  7.7778e-01, -4.4587e-19,  7.4119e-01,\n",
            "         -7.3814e-01,  0.0000e+00,  6.8164e-01, -0.0000e+00,  0.0000e+00,\n",
            "         -7.3175e-01,  0.0000e+00,  0.0000e+00,  8.5904e-01, -0.0000e+00,\n",
            "         -7.7331e-01, -1.0280e-34,  0.0000e+00, -7.0357e-01,  0.0000e+00,\n",
            "         -7.8240e-01,  8.3582e-01,  0.0000e+00, -0.0000e+00,  0.0000e+00,\n",
            "         -7.3993e-01, -2.8529e-01, -0.0000e+00, -0.0000e+00,  7.6179e-01,\n",
            "         -7.9266e-01, -2.1063e-22,  0.0000e+00, -7.6172e-01,  8.1259e-01,\n",
            "          8.1563e-01,  0.0000e+00,  0.0000e+00,  8.0328e-01, -0.0000e+00,\n",
            "         -2.0165e-42,  0.0000e+00,  7.8407e-01,  7.6031e-01,  0.0000e+00,\n",
            "          7.7976e-01, -0.0000e+00,  7.0464e-01, -0.0000e+00, -1.3655e-39,\n",
            "         -7.5187e-01,  6.8977e-01,  7.0765e-01,  0.0000e+00,  6.5801e-01]],\n",
            "       device='cuda:0', grad_fn=<ThnnFusedLstmCellBackward>)\n",
            "decd word  1 torch.Size([1, 100]) tensor([[-9.6120e-01,  9.7072e-01, -0.0000e+00,  0.0000e+00,  0.0000e+00,\n",
            "          9.7114e-01,  0.0000e+00,  0.0000e+00,  0.0000e+00,  0.0000e+00,\n",
            "         -9.7203e-01,  0.0000e+00,  1.4135e-32,  0.0000e+00,  0.0000e+00,\n",
            "          0.0000e+00,  0.0000e+00, -0.0000e+00, -9.6470e-01,  0.0000e+00,\n",
            "          0.0000e+00,  3.0006e-38,  9.6598e-01,  0.0000e+00,  0.0000e+00,\n",
            "          9.6238e-01,  9.7790e-01,  9.6514e-01,  0.0000e+00, -0.0000e+00,\n",
            "         -0.0000e+00, -9.7263e-01, -9.3036e-01,  0.0000e+00, -0.0000e+00,\n",
            "         -9.7319e-01, -0.0000e+00, -9.5690e-01, -9.5802e-01,  0.0000e+00,\n",
            "          9.4815e-01, -3.8346e-02,  0.0000e+00,  0.0000e+00, -9.7111e-01,\n",
            "          0.0000e+00,  9.7550e-01,  9.6673e-01,  1.1981e-42,  9.6056e-01,\n",
            "         -9.6004e-01,  0.0000e+00,  9.5004e-01,  0.0000e+00,  0.0000e+00,\n",
            "         -9.5893e-01,  0.0000e+00,  0.0000e+00,  9.7968e-01, -0.0000e+00,\n",
            "         -9.6599e-01,  0.0000e+00,  0.0000e+00, -9.5399e-01,  0.0000e+00,\n",
            "         -9.6749e-01,  9.7608e-01,  0.0000e+00, -0.0000e+00,  0.0000e+00,\n",
            "         -9.6035e-01, -1.4697e-08, -0.0000e+00, -0.0000e+00,  9.6406e-01,\n",
            "         -9.6917e-01, -4.7761e-24,  0.0000e+00, -9.6405e-01,  9.7240e-01,\n",
            "          9.7289e-01,  0.0000e+00,  0.0000e+00,  9.7090e-01, -0.0000e+00,\n",
            "         -0.0000e+00,  0.0000e+00,  9.6777e-01,  9.6381e-01,  0.0000e+00,\n",
            "          9.6706e-01, -0.0000e+00,  9.5418e-01, -0.0000e+00, -0.0000e+00,\n",
            "         -9.6238e-01,  9.5151e-01,  9.5471e-01,  0.0000e+00,  9.4569e-01]],\n",
            "       device='cuda:0', grad_fn=<ThnnFusedLstmCellBackward>)\n",
            "decd word  2 torch.Size([1, 100]) tensor([[-9.9466e-01,  9.9599e-01, -0.0000e+00,  0.0000e+00,  0.0000e+00,\n",
            "          9.9604e-01,  0.0000e+00,  0.0000e+00,  0.0000e+00,  0.0000e+00,\n",
            "         -9.9617e-01,  0.0000e+00,  8.1557e-37,  0.0000e+00,  0.0000e+00,\n",
            "          0.0000e+00,  0.0000e+00, -0.0000e+00, -9.9515e-01,  0.0000e+00,\n",
            "          0.0000e+00,  1.3870e-41,  9.9533e-01,  0.0000e+00,  0.0000e+00,\n",
            "          9.9482e-01,  9.9698e-01,  9.9521e-01,  0.0000e+00, -0.0000e+00,\n",
            "         -0.0000e+00, -9.9625e-01, -9.9028e-01,  0.0000e+00, -0.0000e+00,\n",
            "         -9.9633e-01, -0.0000e+00, -9.9406e-01, -9.9421e-01,  0.0000e+00,\n",
            "          9.9282e-01, -3.8346e-02,  0.0000e+00,  0.0000e+00, -9.9604e-01,\n",
            "          0.0000e+00,  9.9665e-01,  9.9543e-01,  0.0000e+00,  9.9457e-01,\n",
            "         -9.9450e-01,  0.0000e+00,  9.9309e-01,  0.0000e+00,  0.0000e+00,\n",
            "         -9.9434e-01,  0.0000e+00,  0.0000e+00,  9.9723e-01, -0.0000e+00,\n",
            "         -9.9533e-01,  0.0000e+00,  0.0000e+00, -9.9365e-01,  0.0000e+00,\n",
            "         -9.9554e-01,  9.9673e-01,  0.0000e+00, -0.0000e+00,  0.0000e+00,\n",
            "         -9.9454e-01, -2.9999e-11, -0.0000e+00, -0.0000e+00,  9.9506e-01,\n",
            "         -9.9577e-01, -2.1472e-24,  0.0000e+00, -9.9506e-01,  9.9622e-01,\n",
            "          9.9629e-01,  0.0000e+00,  0.0000e+00,  9.9601e-01, -0.0000e+00,\n",
            "         -0.0000e+00,  0.0000e+00,  9.9558e-01,  9.9502e-01,  0.0000e+00,\n",
            "          9.9548e-01, -0.0000e+00,  9.9367e-01, -0.0000e+00, -0.0000e+00,\n",
            "         -9.9483e-01,  9.9330e-01,  9.9375e-01,  0.0000e+00,  9.9247e-01]],\n",
            "       device='cuda:0', grad_fn=<ThnnFusedLstmCellBackward>)\n",
            "decd word  3 torch.Size([1, 100]) tensor([[-9.9928e-01,  9.9946e-01, -0.0000e+00,  0.0000e+00,  0.0000e+00,\n",
            "          9.9946e-01,  0.0000e+00,  0.0000e+00,  0.0000e+00,  0.0000e+00,\n",
            "         -9.9948e-01,  0.0000e+00,  1.6138e-37,  0.0000e+00,  0.0000e+00,\n",
            "          0.0000e+00,  0.0000e+00, -0.0000e+00, -9.9934e-01,  0.0000e+00,\n",
            "          0.0000e+00,  3.7709e-42,  9.9937e-01,  0.0000e+00,  0.0000e+00,\n",
            "          9.9930e-01,  9.9959e-01,  9.9935e-01,  0.0000e+00, -0.0000e+00,\n",
            "         -0.0000e+00, -9.9949e-01, -9.9868e-01,  0.0000e+00, -0.0000e+00,\n",
            "         -9.9950e-01, -0.0000e+00, -9.9919e-01, -9.9921e-01,  0.0000e+00,\n",
            "          9.9903e-01, -3.8346e-02,  0.0000e+00,  0.0000e+00, -9.9946e-01,\n",
            "          0.0000e+00,  9.9955e-01,  9.9938e-01,  0.0000e+00,  9.9926e-01,\n",
            "         -9.9925e-01,  0.0000e+00,  9.9906e-01,  0.0000e+00,  0.0000e+00,\n",
            "         -9.9923e-01,  0.0000e+00,  0.0000e+00,  9.9962e-01, -0.0000e+00,\n",
            "         -9.9937e-01,  0.0000e+00,  0.0000e+00, -9.9914e-01,  0.0000e+00,\n",
            "         -9.9939e-01,  9.9956e-01,  0.0000e+00, -0.0000e+00,  0.0000e+00,\n",
            "         -9.9926e-01, -2.6228e-12, -0.0000e+00, -0.0000e+00,  9.9933e-01,\n",
            "         -9.9943e-01, -1.8074e-24,  0.0000e+00, -9.9933e-01,  9.9949e-01,\n",
            "          9.9950e-01,  0.0000e+00,  0.0000e+00,  9.9946e-01, -0.0000e+00,\n",
            "         -0.0000e+00,  0.0000e+00,  9.9940e-01,  9.9933e-01,  0.0000e+00,\n",
            "          9.9939e-01, -0.0000e+00,  9.9914e-01, -0.0000e+00,  0.0000e+00,\n",
            "         -9.9930e-01,  9.9909e-01,  9.9915e-01,  0.0000e+00,  9.9898e-01]],\n",
            "       device='cuda:0', grad_fn=<ThnnFusedLstmCellBackward>)\n",
            "decd word  4 torch.Size([1, 100]) tensor([[-9.9990e-01,  9.9993e-01, -0.0000e+00,  0.0000e+00,  0.0000e+00,\n",
            "          9.9993e-01,  0.0000e+00,  0.0000e+00,  0.0000e+00,  0.0000e+00,\n",
            "         -9.9993e-01,  0.0000e+00,  1.2904e-37,  0.0000e+00,  0.0000e+00,\n",
            "          0.0000e+00,  0.0000e+00, -0.0000e+00, -9.9991e-01,  0.0000e+00,\n",
            "          0.0000e+00,  3.1501e-42,  9.9991e-01,  0.0000e+00,  0.0000e+00,\n",
            "          9.9990e-01,  9.9994e-01,  9.9991e-01,  0.0000e+00, -0.0000e+00,\n",
            "         -0.0000e+00, -9.9993e-01, -9.9982e-01,  0.0000e+00, -0.0000e+00,\n",
            "         -9.9993e-01, -0.0000e+00, -9.9989e-01, -9.9989e-01,  0.0000e+00,\n",
            "          9.9987e-01, -3.8346e-02,  0.0000e+00,  0.0000e+00, -9.9993e-01,\n",
            "          0.0000e+00,  9.9994e-01,  9.9992e-01,  0.0000e+00,  9.9990e-01,\n",
            "         -9.9990e-01,  0.0000e+00,  9.9987e-01,  0.0000e+00,  0.0000e+00,\n",
            "         -9.9990e-01,  0.0000e+00,  0.0000e+00,  9.9995e-01, -0.0000e+00,\n",
            "         -9.9991e-01,  0.0000e+00,  0.0000e+00, -9.9988e-01,  0.0000e+00,\n",
            "         -9.9992e-01,  9.9994e-01,  0.0000e+00, -0.0000e+00,  0.0000e+00,\n",
            "         -9.9990e-01, -4.3551e-13, -0.0000e+00, -0.0000e+00,  9.9991e-01,\n",
            "         -9.9992e-01, -1.7650e-24,  0.0000e+00, -9.9991e-01,  9.9993e-01,\n",
            "          9.9993e-01,  0.0000e+00,  0.0000e+00,  9.9993e-01, -0.0000e+00,\n",
            "         -0.0000e+00,  0.0000e+00,  9.9992e-01,  9.9991e-01,  0.0000e+00,\n",
            "          9.9992e-01, -0.0000e+00,  9.9988e-01, -0.0000e+00,  0.0000e+00,\n",
            "         -9.9990e-01,  9.9988e-01,  9.9989e-01,  0.0000e+00,  9.9986e-01]],\n",
            "       device='cuda:0', grad_fn=<ThnnFusedLstmCellBackward>)\n",
            "decd word  5 torch.Size([1, 100]) tensor([[-9.9999e-01,  9.9999e-01, -0.0000e+00,  0.0000e+00,  0.0000e+00,\n",
            "          9.9999e-01,  0.0000e+00,  0.0000e+00,  0.0000e+00,  0.0000e+00,\n",
            "         -9.9999e-01,  0.0000e+00,  1.2518e-37,  0.0000e+00,  0.0000e+00,\n",
            "          0.0000e+00,  0.0000e+00, -0.0000e+00, -9.9999e-01,  0.0000e+00,\n",
            "          0.0000e+00,  3.0744e-42,  9.9999e-01,  0.0000e+00,  0.0000e+00,\n",
            "          9.9999e-01,  9.9999e-01,  9.9999e-01,  0.0000e+00, -0.0000e+00,\n",
            "         -0.0000e+00, -9.9999e-01, -9.9998e-01,  0.0000e+00, -0.0000e+00,\n",
            "         -9.9999e-01, -0.0000e+00, -9.9999e-01, -9.9999e-01,  0.0000e+00,\n",
            "          9.9998e-01, -3.8346e-02,  0.0000e+00,  0.0000e+00, -9.9999e-01,\n",
            "          0.0000e+00,  9.9999e-01,  9.9999e-01,  0.0000e+00,  9.9999e-01,\n",
            "         -9.9999e-01,  0.0000e+00,  9.9998e-01,  0.0000e+00,  0.0000e+00,\n",
            "         -9.9999e-01,  0.0000e+00,  0.0000e+00,  9.9999e-01, -0.0000e+00,\n",
            "         -9.9999e-01,  0.0000e+00,  0.0000e+00, -9.9998e-01,  0.0000e+00,\n",
            "         -9.9999e-01,  9.9999e-01,  0.0000e+00, -0.0000e+00,  0.0000e+00,\n",
            "         -9.9999e-01, -7.9032e-14, -0.0000e+00, -0.0000e+00,  9.9999e-01,\n",
            "         -9.9999e-01, -1.7594e-24,  0.0000e+00, -9.9999e-01,  9.9999e-01,\n",
            "          9.9999e-01,  0.0000e+00,  0.0000e+00,  9.9999e-01, -0.0000e+00,\n",
            "         -0.0000e+00,  0.0000e+00,  9.9999e-01,  9.9999e-01,  0.0000e+00,\n",
            "          9.9999e-01, -0.0000e+00,  9.9998e-01, -0.0000e+00,  0.0000e+00,\n",
            "         -9.9999e-01,  9.9998e-01,  9.9998e-01,  0.0000e+00,  9.9998e-01]],\n",
            "       device='cuda:0', grad_fn=<ThnnFusedLstmCellBackward>)\n",
            "decd word  6 torch.Size([1, 100]) tensor([[-1.0000e+00,  1.0000e+00, -0.0000e+00,  0.0000e+00,  0.0000e+00,\n",
            "          1.0000e+00,  0.0000e+00,  0.0000e+00,  0.0000e+00,  0.0000e+00,\n",
            "         -1.0000e+00,  0.0000e+00,  1.2467e-37,  0.0000e+00,  0.0000e+00,\n",
            "          0.0000e+00,  0.0000e+00, -0.0000e+00, -1.0000e+00,  0.0000e+00,\n",
            "          0.0000e+00,  3.0632e-42,  1.0000e+00,  0.0000e+00,  0.0000e+00,\n",
            "          1.0000e+00,  1.0000e+00,  1.0000e+00,  0.0000e+00, -0.0000e+00,\n",
            "         -0.0000e+00, -1.0000e+00, -1.0000e+00,  0.0000e+00, -0.0000e+00,\n",
            "         -1.0000e+00, -0.0000e+00, -1.0000e+00, -1.0000e+00,  0.0000e+00,\n",
            "          1.0000e+00, -3.8346e-02,  0.0000e+00,  0.0000e+00, -1.0000e+00,\n",
            "          0.0000e+00,  1.0000e+00,  1.0000e+00,  0.0000e+00,  1.0000e+00,\n",
            "         -1.0000e+00,  0.0000e+00,  1.0000e+00,  0.0000e+00,  0.0000e+00,\n",
            "         -1.0000e+00,  0.0000e+00,  0.0000e+00,  1.0000e+00, -0.0000e+00,\n",
            "         -1.0000e+00,  0.0000e+00,  0.0000e+00, -1.0000e+00,  0.0000e+00,\n",
            "         -1.0000e+00,  1.0000e+00,  0.0000e+00, -0.0000e+00,  0.0000e+00,\n",
            "         -1.0000e+00, -1.4516e-14, -0.0000e+00, -0.0000e+00,  1.0000e+00,\n",
            "         -1.0000e+00, -1.7586e-24,  0.0000e+00, -1.0000e+00,  1.0000e+00,\n",
            "          1.0000e+00,  0.0000e+00,  0.0000e+00,  1.0000e+00, -0.0000e+00,\n",
            "         -0.0000e+00,  0.0000e+00,  1.0000e+00,  1.0000e+00,  0.0000e+00,\n",
            "          1.0000e+00, -0.0000e+00,  1.0000e+00, -0.0000e+00,  0.0000e+00,\n",
            "         -1.0000e+00,  1.0000e+00,  1.0000e+00,  0.0000e+00,  1.0000e+00]],\n",
            "       device='cuda:0', grad_fn=<ThnnFusedLstmCellBackward>)\n",
            "decd word  7 torch.Size([1, 100]) tensor([[-1.0000e+00,  1.0000e+00, -0.0000e+00,  0.0000e+00,  0.0000e+00,\n",
            "          1.0000e+00,  0.0000e+00,  0.0000e+00,  0.0000e+00,  0.0000e+00,\n",
            "         -1.0000e+00,  0.0000e+00,  1.2460e-37,  0.0000e+00,  0.0000e+00,\n",
            "          0.0000e+00,  0.0000e+00, -0.0000e+00, -1.0000e+00,  0.0000e+00,\n",
            "          0.0000e+00,  3.0618e-42,  1.0000e+00,  0.0000e+00,  0.0000e+00,\n",
            "          1.0000e+00,  1.0000e+00,  1.0000e+00,  0.0000e+00, -0.0000e+00,\n",
            "         -0.0000e+00, -1.0000e+00, -1.0000e+00,  0.0000e+00, -0.0000e+00,\n",
            "         -1.0000e+00, -0.0000e+00, -1.0000e+00, -1.0000e+00,  0.0000e+00,\n",
            "          1.0000e+00, -3.8346e-02,  0.0000e+00,  0.0000e+00, -1.0000e+00,\n",
            "          0.0000e+00,  1.0000e+00,  1.0000e+00,  0.0000e+00,  1.0000e+00,\n",
            "         -1.0000e+00,  0.0000e+00,  1.0000e+00,  0.0000e+00,  0.0000e+00,\n",
            "         -1.0000e+00,  0.0000e+00,  0.0000e+00,  1.0000e+00, -0.0000e+00,\n",
            "         -1.0000e+00,  0.0000e+00,  0.0000e+00, -1.0000e+00,  0.0000e+00,\n",
            "         -1.0000e+00,  1.0000e+00,  0.0000e+00, -0.0000e+00,  0.0000e+00,\n",
            "         -1.0000e+00, -2.6706e-15, -0.0000e+00, -0.0000e+00,  1.0000e+00,\n",
            "         -1.0000e+00, -1.7585e-24,  0.0000e+00, -1.0000e+00,  1.0000e+00,\n",
            "          1.0000e+00,  0.0000e+00,  0.0000e+00,  1.0000e+00, -0.0000e+00,\n",
            "         -0.0000e+00,  0.0000e+00,  1.0000e+00,  1.0000e+00,  0.0000e+00,\n",
            "          1.0000e+00, -0.0000e+00,  1.0000e+00, -0.0000e+00,  0.0000e+00,\n",
            "         -1.0000e+00,  1.0000e+00,  1.0000e+00,  0.0000e+00,  1.0000e+00]],\n",
            "       device='cuda:0', grad_fn=<ThnnFusedLstmCellBackward>)\n",
            "decd word  8 torch.Size([1, 100]) tensor([[-1.0000e+00,  1.0000e+00, -0.0000e+00,  0.0000e+00,  0.0000e+00,\n",
            "          1.0000e+00,  0.0000e+00,  0.0000e+00,  0.0000e+00,  0.0000e+00,\n",
            "         -1.0000e+00,  0.0000e+00,  1.2459e-37,  0.0000e+00,  0.0000e+00,\n",
            "          0.0000e+00,  0.0000e+00, -0.0000e+00, -1.0000e+00,  0.0000e+00,\n",
            "          0.0000e+00,  3.0618e-42,  1.0000e+00,  0.0000e+00,  0.0000e+00,\n",
            "          1.0000e+00,  1.0000e+00,  1.0000e+00,  0.0000e+00, -0.0000e+00,\n",
            "         -0.0000e+00, -1.0000e+00, -1.0000e+00,  0.0000e+00, -0.0000e+00,\n",
            "         -1.0000e+00, -0.0000e+00, -1.0000e+00, -1.0000e+00,  0.0000e+00,\n",
            "          1.0000e+00, -3.8346e-02,  0.0000e+00,  0.0000e+00, -1.0000e+00,\n",
            "          0.0000e+00,  1.0000e+00,  1.0000e+00,  0.0000e+00,  1.0000e+00,\n",
            "         -1.0000e+00,  0.0000e+00,  1.0000e+00,  0.0000e+00,  0.0000e+00,\n",
            "         -1.0000e+00,  0.0000e+00,  0.0000e+00,  1.0000e+00, -0.0000e+00,\n",
            "         -1.0000e+00,  0.0000e+00,  0.0000e+00, -1.0000e+00,  0.0000e+00,\n",
            "         -1.0000e+00,  1.0000e+00,  0.0000e+00, -0.0000e+00,  0.0000e+00,\n",
            "         -1.0000e+00, -4.9147e-16, -0.0000e+00, -0.0000e+00,  1.0000e+00,\n",
            "         -1.0000e+00, -1.7585e-24,  0.0000e+00, -1.0000e+00,  1.0000e+00,\n",
            "          1.0000e+00,  0.0000e+00,  0.0000e+00,  1.0000e+00, -0.0000e+00,\n",
            "         -0.0000e+00,  0.0000e+00,  1.0000e+00,  1.0000e+00,  0.0000e+00,\n",
            "          1.0000e+00, -0.0000e+00,  1.0000e+00, -0.0000e+00,  0.0000e+00,\n",
            "         -1.0000e+00,  1.0000e+00,  1.0000e+00,  0.0000e+00,  1.0000e+00]],\n",
            "       device='cuda:0', grad_fn=<ThnnFusedLstmCellBackward>)\n",
            "decd word  9 torch.Size([1, 100]) tensor([[-1.0000e+00,  1.0000e+00, -0.0000e+00,  0.0000e+00,  0.0000e+00,\n",
            "          1.0000e+00,  0.0000e+00,  0.0000e+00,  0.0000e+00,  0.0000e+00,\n",
            "         -1.0000e+00,  0.0000e+00,  1.2459e-37,  0.0000e+00,  0.0000e+00,\n",
            "          0.0000e+00,  0.0000e+00, -0.0000e+00, -1.0000e+00,  0.0000e+00,\n",
            "          0.0000e+00,  3.0618e-42,  1.0000e+00,  0.0000e+00,  0.0000e+00,\n",
            "          1.0000e+00,  1.0000e+00,  1.0000e+00,  0.0000e+00, -0.0000e+00,\n",
            "         -0.0000e+00, -1.0000e+00, -1.0000e+00,  0.0000e+00, -0.0000e+00,\n",
            "         -1.0000e+00, -0.0000e+00, -1.0000e+00, -1.0000e+00,  0.0000e+00,\n",
            "          1.0000e+00, -3.8346e-02,  0.0000e+00,  0.0000e+00, -1.0000e+00,\n",
            "          0.0000e+00,  1.0000e+00,  1.0000e+00,  0.0000e+00,  1.0000e+00,\n",
            "         -1.0000e+00,  0.0000e+00,  1.0000e+00,  0.0000e+00,  0.0000e+00,\n",
            "         -1.0000e+00,  0.0000e+00,  0.0000e+00,  1.0000e+00, -0.0000e+00,\n",
            "         -1.0000e+00,  0.0000e+00,  0.0000e+00, -1.0000e+00,  0.0000e+00,\n",
            "         -1.0000e+00,  1.0000e+00,  0.0000e+00, -0.0000e+00,  0.0000e+00,\n",
            "         -1.0000e+00, -9.0476e-17, -0.0000e+00, -0.0000e+00,  1.0000e+00,\n",
            "         -1.0000e+00, -1.7585e-24,  0.0000e+00, -1.0000e+00,  1.0000e+00,\n",
            "          1.0000e+00,  0.0000e+00,  0.0000e+00,  1.0000e+00, -0.0000e+00,\n",
            "         -0.0000e+00,  0.0000e+00,  1.0000e+00,  1.0000e+00,  0.0000e+00,\n",
            "          1.0000e+00, -0.0000e+00,  1.0000e+00, -0.0000e+00,  0.0000e+00,\n",
            "         -1.0000e+00,  1.0000e+00,  1.0000e+00,  0.0000e+00,  1.0000e+00]],\n",
            "       device='cuda:0', grad_fn=<ThnnFusedLstmCellBackward>)\n",
            "decd word  10 torch.Size([1, 100]) tensor([[-1.0000e+00,  1.0000e+00, -0.0000e+00,  0.0000e+00,  0.0000e+00,\n",
            "          1.0000e+00,  0.0000e+00,  0.0000e+00,  0.0000e+00,  0.0000e+00,\n",
            "         -1.0000e+00,  0.0000e+00,  1.2459e-37,  0.0000e+00,  0.0000e+00,\n",
            "          0.0000e+00,  0.0000e+00, -0.0000e+00, -1.0000e+00,  0.0000e+00,\n",
            "          0.0000e+00,  3.0618e-42,  1.0000e+00,  0.0000e+00,  0.0000e+00,\n",
            "          1.0000e+00,  1.0000e+00,  1.0000e+00,  0.0000e+00, -0.0000e+00,\n",
            "         -0.0000e+00, -1.0000e+00, -1.0000e+00,  0.0000e+00, -0.0000e+00,\n",
            "         -1.0000e+00, -0.0000e+00, -1.0000e+00, -1.0000e+00,  0.0000e+00,\n",
            "          1.0000e+00, -3.8346e-02,  0.0000e+00,  0.0000e+00, -1.0000e+00,\n",
            "          0.0000e+00,  1.0000e+00,  1.0000e+00,  0.0000e+00,  1.0000e+00,\n",
            "         -1.0000e+00,  0.0000e+00,  1.0000e+00,  0.0000e+00,  0.0000e+00,\n",
            "         -1.0000e+00,  0.0000e+00,  0.0000e+00,  1.0000e+00, -0.0000e+00,\n",
            "         -1.0000e+00,  0.0000e+00,  0.0000e+00, -1.0000e+00,  0.0000e+00,\n",
            "         -1.0000e+00,  1.0000e+00,  0.0000e+00, -0.0000e+00,  0.0000e+00,\n",
            "         -1.0000e+00, -1.6685e-17, -0.0000e+00, -0.0000e+00,  1.0000e+00,\n",
            "         -1.0000e+00, -1.7585e-24,  0.0000e+00, -1.0000e+00,  1.0000e+00,\n",
            "          1.0000e+00,  0.0000e+00,  0.0000e+00,  1.0000e+00, -0.0000e+00,\n",
            "         -0.0000e+00,  0.0000e+00,  1.0000e+00,  1.0000e+00,  0.0000e+00,\n",
            "          1.0000e+00, -0.0000e+00,  1.0000e+00, -0.0000e+00,  0.0000e+00,\n",
            "         -1.0000e+00,  1.0000e+00,  1.0000e+00,  0.0000e+00,  1.0000e+00]],\n",
            "       device='cuda:0', grad_fn=<ThnnFusedLstmCellBackward>)\n",
            "decd word  11 torch.Size([1, 100]) tensor([[-1.0000e+00,  1.0000e+00, -0.0000e+00,  0.0000e+00,  0.0000e+00,\n",
            "          1.0000e+00,  0.0000e+00,  0.0000e+00,  0.0000e+00,  0.0000e+00,\n",
            "         -1.0000e+00,  0.0000e+00,  1.2459e-37,  0.0000e+00,  0.0000e+00,\n",
            "          0.0000e+00,  0.0000e+00, -0.0000e+00, -1.0000e+00,  0.0000e+00,\n",
            "          0.0000e+00,  3.0618e-42,  1.0000e+00,  0.0000e+00,  0.0000e+00,\n",
            "          1.0000e+00,  1.0000e+00,  1.0000e+00,  0.0000e+00, -0.0000e+00,\n",
            "         -0.0000e+00, -1.0000e+00, -1.0000e+00,  0.0000e+00, -0.0000e+00,\n",
            "         -1.0000e+00, -0.0000e+00, -1.0000e+00, -1.0000e+00,  0.0000e+00,\n",
            "          1.0000e+00, -3.8346e-02,  0.0000e+00,  0.0000e+00, -1.0000e+00,\n",
            "          0.0000e+00,  1.0000e+00,  1.0000e+00,  0.0000e+00,  1.0000e+00,\n",
            "         -1.0000e+00,  0.0000e+00,  1.0000e+00,  0.0000e+00,  0.0000e+00,\n",
            "         -1.0000e+00,  0.0000e+00,  0.0000e+00,  1.0000e+00, -0.0000e+00,\n",
            "         -1.0000e+00,  0.0000e+00,  0.0000e+00, -1.0000e+00,  0.0000e+00,\n",
            "         -1.0000e+00,  1.0000e+00,  0.0000e+00, -0.0000e+00,  0.0000e+00,\n",
            "         -1.0000e+00, -3.1064e-18, -0.0000e+00, -0.0000e+00,  1.0000e+00,\n",
            "         -1.0000e+00, -1.7585e-24,  0.0000e+00, -1.0000e+00,  1.0000e+00,\n",
            "          1.0000e+00,  0.0000e+00,  0.0000e+00,  1.0000e+00, -0.0000e+00,\n",
            "         -0.0000e+00,  0.0000e+00,  1.0000e+00,  1.0000e+00,  0.0000e+00,\n",
            "          1.0000e+00, -0.0000e+00,  1.0000e+00, -0.0000e+00,  0.0000e+00,\n",
            "         -1.0000e+00,  1.0000e+00,  1.0000e+00,  0.0000e+00,  1.0000e+00]],\n",
            "       device='cuda:0', grad_fn=<ThnnFusedLstmCellBackward>)\n",
            "decd word  12 torch.Size([1, 100]) tensor([[-1.0000e+00,  1.0000e+00, -0.0000e+00,  0.0000e+00,  0.0000e+00,\n",
            "          1.0000e+00,  0.0000e+00,  0.0000e+00,  0.0000e+00,  0.0000e+00,\n",
            "         -1.0000e+00,  0.0000e+00,  1.2459e-37,  0.0000e+00,  0.0000e+00,\n",
            "          0.0000e+00,  0.0000e+00, -0.0000e+00, -1.0000e+00,  0.0000e+00,\n",
            "          0.0000e+00,  3.0618e-42,  1.0000e+00,  0.0000e+00,  0.0000e+00,\n",
            "          1.0000e+00,  1.0000e+00,  1.0000e+00,  0.0000e+00, -0.0000e+00,\n",
            "         -0.0000e+00, -1.0000e+00, -1.0000e+00,  0.0000e+00, -0.0000e+00,\n",
            "         -1.0000e+00, -0.0000e+00, -1.0000e+00, -1.0000e+00,  0.0000e+00,\n",
            "          1.0000e+00, -3.8346e-02,  0.0000e+00,  0.0000e+00, -1.0000e+00,\n",
            "          0.0000e+00,  1.0000e+00,  1.0000e+00,  0.0000e+00,  1.0000e+00,\n",
            "         -1.0000e+00,  0.0000e+00,  1.0000e+00,  0.0000e+00,  0.0000e+00,\n",
            "         -1.0000e+00,  0.0000e+00,  0.0000e+00,  1.0000e+00, -0.0000e+00,\n",
            "         -1.0000e+00,  0.0000e+00,  0.0000e+00, -1.0000e+00,  0.0000e+00,\n",
            "         -1.0000e+00,  1.0000e+00,  0.0000e+00, -0.0000e+00,  0.0000e+00,\n",
            "         -1.0000e+00, -6.0754e-19, -0.0000e+00, -0.0000e+00,  1.0000e+00,\n",
            "         -1.0000e+00, -1.7585e-24,  0.0000e+00, -1.0000e+00,  1.0000e+00,\n",
            "          1.0000e+00,  0.0000e+00,  0.0000e+00,  1.0000e+00, -0.0000e+00,\n",
            "         -0.0000e+00,  0.0000e+00,  1.0000e+00,  1.0000e+00,  0.0000e+00,\n",
            "          1.0000e+00, -0.0000e+00,  1.0000e+00, -0.0000e+00,  0.0000e+00,\n",
            "         -1.0000e+00,  1.0000e+00,  1.0000e+00,  0.0000e+00,  1.0000e+00]],\n",
            "       device='cuda:0', grad_fn=<ThnnFusedLstmCellBackward>)\n"
          ],
          "name": "stdout"
        },
        {
          "output_type": "execute_result",
          "data": {
            "application/vnd.google.colaboratory.intrinsic+json": {
              "type": "string"
            },
            "text/plain": [
              "'Negative'"
            ]
          },
          "metadata": {
            "tags": []
          },
          "execution_count": 30
        }
      ]
    },
    {
      "cell_type": "markdown",
      "metadata": {
        "id": "1HwjrPw0W-qu"
      },
      "source": [
        "## Testing the model on 10 random review comments from the validation set to predict the label"
      ]
    },
    {
      "cell_type": "code",
      "metadata": {
        "id": "RBCajTM636dI",
        "colab": {
          "base_uri": "https://localhost:8080/",
          "height": 1000
        },
        "outputId": "d0ffa605-d6a9-404e-cf3d-42a7fb26b667"
      },
      "source": [
        "import random \n",
        "\n",
        "from IPython.display import display, Markdown\n",
        "\n",
        "TESTSAMPLE = 10\n",
        "\n",
        "validindex = np.arange (len(valid))\n",
        "\n",
        "printEncoderDecoderOutput = False\n",
        "randindex = random.choices(validindex , k=10)\n",
        "\n",
        "sentenceLabelPrediction = []\n",
        "\n",
        "for i in range(TESTSAMPLE)  :\n",
        "  slp = {}\n",
        "  out = vars(valid.examples[randindex[i]])\n",
        "  \n",
        "  true_label = categories[out['label']]\n",
        "  in_tweet = ' '.join(out['tweet'])\n",
        "  pred_label = classify_tweet(in_tweet)\n",
        "\n",
        "  strTruelabel = 'True label: ' + str(true_label)\n",
        "  strPredlabel = 'Predicted label: ' +  str(pred_label)\n",
        "  strSentence =  'Input Sentence: ' + in_tweet\n",
        "  slp['Truelabel'] = true_label\n",
        "  slp['Predictedlabel'] = pred_label\n",
        "  slp['Input Sentence'] = in_tweet\n",
        "\n",
        "  sentenceLabelPrediction.append(slp)\n",
        "  \n",
        "  lineSeparator = '---------------------------------'\n",
        "  display(Markdown('<strong>{}</strong><br><br><strong>{}</strong><br><br>{}<br><br><strong>{}</strong><br><br>'.format(strTruelabel , strPredlabel , strSentence , lineSeparator)))\n",
        "\n",
        "\n",
        "\n",
        "\n"
      ],
      "execution_count": 31,
      "outputs": [
        {
          "output_type": "display_data",
          "data": {
            "text/markdown": "<strong>True label: Negative</strong><br><br><strong>Predicted label: Negative</strong><br><br>Input Sentence: BUM ! Obama \" threatens \" supreme court justices considering repealing his unconstitutional healthcare law . Nice move bum !<br><br><strong>---------------------------------</strong><br><br>",
            "text/plain": [
              "<IPython.core.display.Markdown object>"
            ]
          },
          "metadata": {
            "tags": []
          }
        },
        {
          "output_type": "display_data",
          "data": {
            "text/markdown": "<strong>True label: Negative</strong><br><br><strong>Predicted label: Negative</strong><br><br>Input Sentence: @ericbolling # Hillary 's gon na challenge # Obama<br><br><strong>---------------------------------</strong><br><br>",
            "text/plain": [
              "<IPython.core.display.Markdown object>"
            ]
          },
          "metadata": {
            "tags": []
          }
        },
        {
          "output_type": "display_data",
          "data": {
            "text/markdown": "<strong>True label: Negative</strong><br><br><strong>Predicted label: Negative</strong><br><br>Input Sentence: RT @ohgirlphrase : American kid \" You 're from the UK ? Ohhh cool , So do you have tea with the Queen ? \" . British kid : \" Do you like , go to Mcdonalds with Obama ?<br><br><strong>---------------------------------</strong><br><br>",
            "text/plain": [
              "<IPython.core.display.Markdown object>"
            ]
          },
          "metadata": {
            "tags": []
          }
        },
        {
          "output_type": "display_data",
          "data": {
            "text/markdown": "<strong>True label: Negative</strong><br><br><strong>Predicted label: Negative</strong><br><br>Input Sentence: @AC360   President Obama is a Constitutional Law scholar - give him credit and the respect that he deserves .   @JaySekulow is annoying .<br><br><strong>---------------------------------</strong><br><br>",
            "text/plain": [
              "<IPython.core.display.Markdown object>"
            ]
          },
          "metadata": {
            "tags": []
          }
        },
        {
          "output_type": "display_data",
          "data": {
            "text/markdown": "<strong>True label: Positive</strong><br><br><strong>Predicted label: Negative</strong><br><br>Input Sentence: Obama signs JOBS Act to boost startup firms - http://t.co/TFuPTCwT<br><br><strong>---------------------------------</strong><br><br>",
            "text/plain": [
              "<IPython.core.display.Markdown object>"
            ]
          },
          "metadata": {
            "tags": []
          }
        },
        {
          "output_type": "display_data",
          "data": {
            "text/markdown": "<strong>True label: Negative</strong><br><br><strong>Predicted label: Negative</strong><br><br>Input Sentence: RT @ohgirlphrase : American kid \" You 're from the UK ? Ohhh cool , So do you have tea with the Queen ? \" . British kid : \" Do you like , go to Mcdonalds with Obama ?<br><br><strong>---------------------------------</strong><br><br>",
            "text/plain": [
              "<IPython.core.display.Markdown object>"
            ]
          },
          "metadata": {
            "tags": []
          }
        },
        {
          "output_type": "display_data",
          "data": {
            "text/markdown": "<strong>True label: Negative</strong><br><br><strong>Predicted label: Negative</strong><br><br>Input Sentence: It 's incredible that something like # WhatsRomneyHiding would be trending . Yet Obama is sneakiest , harmful person and no one says anything .<br><br><strong>---------------------------------</strong><br><br>",
            "text/plain": [
              "<IPython.core.display.Markdown object>"
            ]
          },
          "metadata": {
            "tags": []
          }
        },
        {
          "output_type": "display_data",
          "data": {
            "text/markdown": "<strong>True label: Negative</strong><br><br><strong>Predicted label: Negative</strong><br><br>Input Sentence: A \" legislator \" who 'd never passed legislation . A \" law professor \" who 'd never published a law review article ... Is Obama fictional ? # hhrs<br><br><strong>---------------------------------</strong><br><br>",
            "text/plain": [
              "<IPython.core.display.Markdown object>"
            ]
          },
          "metadata": {
            "tags": []
          }
        },
        {
          "output_type": "display_data",
          "data": {
            "text/markdown": "<strong>True label: Negative</strong><br><br><strong>Predicted label: Negative</strong><br><br>Input Sentence: RT @anna12061 : Another Obama Buddy !<br><br><strong>---------------------------------</strong><br><br>",
            "text/plain": [
              "<IPython.core.display.Markdown object>"
            ]
          },
          "metadata": {
            "tags": []
          }
        },
        {
          "output_type": "display_data",
          "data": {
            "text/markdown": "<strong>True label: Negative</strong><br><br><strong>Predicted label: Positive</strong><br><br>Input Sentence: @obama start tweeting dang<br><br><strong>---------------------------------</strong><br><br>",
            "text/plain": [
              "<IPython.core.display.Markdown object>"
            ]
          },
          "metadata": {
            "tags": []
          }
        }
      ]
    },
    {
      "cell_type": "markdown",
      "metadata": {
        "id": "5NpzwfiJu0H9"
      },
      "source": [
        "### store the information for further analysis"
      ]
    },
    {
      "cell_type": "code",
      "metadata": {
        "id": "hyueHFvP4Yoi"
      },
      "source": [
        "diagnosticDict = {}\n",
        "\n",
        "diagnosticDict['num_hidden_nodes'] = num_hidden_nodes\n",
        "diagnosticDict['epochs'] = N_EPOCHS\n",
        "diagnosticDict['lr'] = learning_rate\n",
        "diagnosticDict['batchsize'] = batch_size\n",
        "diagnosticDict['trainLossList'] = trainLossList\n",
        "diagnosticDict['valLossList']= valLossList\n",
        "diagnosticDict['trainAccyList'] = trainAccyList\n",
        "diagnosticDict['valAccyList'] = valAccyList\n",
        "diagnosticDict['sentencelabelpredict'] = sentenceLabelPrediction\n",
        "\n",
        "#diagnosticDict"
      ],
      "execution_count": 32,
      "outputs": []
    },
    {
      "cell_type": "code",
      "metadata": {
        "id": "vBpGdtqf4iFA"
      },
      "source": [
        "import json\n",
        "\n",
        "with open(\"encdr_dcdr_lstmdiagnostic.json\", \"a\") as out_file:\n",
        "  json.dump(diagnosticDict, out_file, indent = 6)\n"
      ],
      "execution_count": 33,
      "outputs": []
    }
  ]
}